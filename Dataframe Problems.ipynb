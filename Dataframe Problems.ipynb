{
 "cells": [
  {
   "cell_type": "markdown",
   "id": "regulated-bones",
   "metadata": {},
   "source": [
    "# Lab 04: NumPy\n",
    "\n",
    "In this lab, you will practice:\n",
    "\n",
    "- Working with NumPy arrays\n",
    "- \"Translate\" loop operations to NumPy vectorization methods\n",
    "- Practice with NumPy number generator\n",
    "- Practice with errors and exception handling\n",
    "\n",
    "**Deadline: 11:59 PM Tuesday 09/21/2021**\n",
    "\n",
    "***"
   ]
  },
  {
   "cell_type": "markdown",
   "id": "pointed-somerset",
   "metadata": {},
   "source": [
    "## Exercise 1 (3 points)\n",
    "\n",
    "You are given the following code segment:\n",
    "\n",
    "- `random` library provides pseudorandom number generator functions (much like `numpy.random` submodule).\n",
    "- To do this exercise, you do NOT need to know the `random` library or what the `random.randint()` function does."
   ]
  },
  {
   "cell_type": "code",
   "execution_count": 1,
   "id": "weighted-bracelet",
   "metadata": {},
   "outputs": [
    {
     "name": "stdout",
     "output_type": "stream",
     "text": [
      "[35, 85, 18, 4, 20, 28, 59, 41, 99, 40, 25, 10, 25, 73, 52, 53, 19, 28, 9, 94]\n"
     ]
    },
    {
     "data": {
      "text/plain": [
       "[-1, -1, 1, 0, -1, 0, 0, 0, 1, -1, -1, -1, -1, 0, 0, 0, 0, 0, 1, 0]"
      ]
     },
     "execution_count": 1,
     "metadata": {},
     "output_type": "execute_result"
    }
   ],
   "source": [
    "import random\n",
    "\n",
    "random.seed(430)\n",
    "a_list = [random.randint(1, 100) for i in range(20)]\n",
    "print(a_list)\n",
    "\n",
    "new_list = []\n",
    "for i in a_list:\n",
    "    if i % 3 == 0:\n",
    "        new_list.append(1)\n",
    "    elif i % 5 == 0:\n",
    "        new_list.append(-1)\n",
    "    else:\n",
    "        new_list.append(0)\n",
    "a_list = new_list\n",
    "a_list"
   ]
  },
  {
   "cell_type": "code",
   "execution_count": 5,
   "id": "81559a94",
   "metadata": {},
   "outputs": [
    {
     "data": {
      "text/plain": [
       "[35, 85, 18, 4, 20, 28, 59, 41, 99, 40, 25, 10, 25, 73, 52, 53, 19, 28, 9, 94]"
      ]
     },
     "execution_count": 5,
     "metadata": {},
     "output_type": "execute_result"
    }
   ],
   "source": [
    "a_list = [random.randint(1, 100) for i in range(20)]\n",
    "a_list "
   ]
  },
  {
   "cell_type": "markdown",
   "id": "going-secretary",
   "metadata": {},
   "source": [
    "Write the equivalent code using NumPy Array! Note that your code should include **no loops**!\n",
    "\n",
    "Your answer will receive a grade of 0 if any type of loop is used!"
   ]
  },
  {
   "cell_type": "code",
   "execution_count": 7,
   "id": "foster-breakdown",
   "metadata": {},
   "outputs": [
    {
     "data": {
      "text/plain": [
       "array([-1, -1,  1,  0, -1,  0,  0,  0,  1, -1, -1, -1, -1,  0,  0,  0,  0,\n",
       "        0,  1,  0])"
      ]
     },
     "execution_count": 7,
     "metadata": {},
     "output_type": "execute_result"
    }
   ],
   "source": [
    "# add your code here\n",
    "import numpy as np\n",
    "import random\n",
    "random.seed(430)\n",
    "a_list = [random.randint(1, 100) for i in range(20)]\n",
    "a_array = np.array(a_list)\n",
    "a_array[(a_array % 3 != 0) & (a_array % 5 != 0)] = 0\n",
    "a_array[(a_array % 3 == 0) & (a_array != 0)] = 1\n",
    "a_array[(a_array % 5 == 0) & (a_array != 0)] = -1\n",
    "a_array"
   ]
  },
  {
   "cell_type": "markdown",
   "id": "offensive-exposure",
   "metadata": {},
   "source": [
    "***\n",
    "\n",
    "## Exercise 2 (4 points)\n",
    "\n",
    "Use NumPy random generator to do the following tasks:\n",
    "\n",
    "- Set the seed to be **430**.\n",
    "- Randomly generate 100 numeric values from a normal distribution with mean of 5 and standard deviation of 1.5, store them in a NumPy array called `nums`.\n",
    "- Compute the proportion of the randomly generated values that are **greater than 7**, store the result in a variable called `prop`.\n",
    "\n",
    "**Note**: The use of loops is not allowed in this exercise."
   ]
  },
  {
   "cell_type": "code",
   "execution_count": 27,
   "id": "proved-sierra",
   "metadata": {},
   "outputs": [
    {
     "data": {
      "text/plain": [
       "0.07"
      ]
     },
     "execution_count": 27,
     "metadata": {},
     "output_type": "execute_result"
    }
   ],
   "source": [
    "# add your code here\n",
    "import numpy as np\n",
    "import random\n",
    "random.seed(430)\n",
    "nums = np.random.normal(loc=5,scale=1.5,size=100)\n",
    "greaternums_shape = nums[nums > 7].shape\n",
    "prop = greater_number[0] / 100\n",
    "prop"
   ]
  },
  {
   "cell_type": "markdown",
   "id": "frank-counter",
   "metadata": {},
   "source": [
    "***\n",
    "\n",
    "## Exercise 3 (3 points)\n",
    "\n",
    "Write a function named `is_birthday_valid(s)` checking if `s` is a valid birthday. For example,\n",
    "- 10/10/2020 is a valid birthday.\n",
    "- 02/30/2020 is not a valid birthday.\n",
    "\n",
    "Dates are usually written as `mm/dd/yyyy` (where `mm` presents the month, `dd` represents the date, and `yyyy` represents the year). But everyone writes the date slighly differently.\n",
    "\n",
    "For example,\n",
    "\n",
    "`s = '10/10/2020'`\n",
    "\n",
    "`s = '02-30-2020'`\n",
    "\n",
    "`s = '2/ 29/ 1988'`\n",
    "\n",
    "**Notes:**\n",
    "- To check for valid birthday, take a look at [this post](https://stackoverflow.com/questions/9987818/in-python-how-to-check-if-a-date-is-valid) on StackOverflow.\n",
    "- The month, date and year order will always be the same in these test cases."
   ]
  },
  {
   "cell_type": "code",
   "execution_count": 52,
   "id": "enabling-cooling",
   "metadata": {},
   "outputs": [],
   "source": [
    "# add your code here\n",
    "import datetime\n",
    "from dateutil.parser import parse\n",
    "def is_birthday_valid(s):\n",
    "    if s:\n",
    "        try:\n",
    "            parse(s)\n",
    "            return True\n",
    "        except:\n",
    "            return False\n",
    "    return False "
   ]
  },
  {
   "cell_type": "markdown",
   "id": "ideal-local",
   "metadata": {},
   "source": [
    "Use the following test cases to test your code (note that the test cases used for grading are **similar** to the ones listed here, but are not exactly the same):"
   ]
  },
  {
   "cell_type": "code",
   "execution_count": 53,
   "id": "virgin-serve",
   "metadata": {},
   "outputs": [
    {
     "data": {
      "text/plain": [
       "True"
      ]
     },
     "execution_count": 53,
     "metadata": {},
     "output_type": "execute_result"
    }
   ],
   "source": [
    "is_birthday_valid('10/10/2020') # Expected output: True"
   ]
  },
  {
   "cell_type": "code",
   "execution_count": 54,
   "id": "primary-establishment",
   "metadata": {},
   "outputs": [
    {
     "data": {
      "text/plain": [
       "False"
      ]
     },
     "execution_count": 54,
     "metadata": {},
     "output_type": "execute_result"
    }
   ],
   "source": [
    "is_birthday_valid('02-30-2020') # Expected output: False"
   ]
  },
  {
   "cell_type": "code",
   "execution_count": 55,
   "id": "bearing-glass",
   "metadata": {},
   "outputs": [
    {
     "data": {
      "text/plain": [
       "True"
      ]
     },
     "execution_count": 55,
     "metadata": {},
     "output_type": "execute_result"
    }
   ],
   "source": [
    "is_birthday_valid('2/ 29/ 1988') # Expected output: True"
   ]
  },
  {
   "cell_type": "markdown",
   "id": "tracked-computer",
   "metadata": {},
   "source": [
    "***\n",
    "\n",
    "## Submit Your Work"
   ]
  },
  {
   "cell_type": "markdown",
   "id": "demonstrated-center",
   "metadata": {},
   "source": [
    "You're almost done -- congratulations!\n",
    "\n",
    "You need to do a few more things:\n",
    "\n",
    "1. Save your work.  To do this, create a **notebook checkpoint** by using the menu within the notebook to go **File -> Save and Checkpoint**\n",
    "\n",
    "2. Click **File** -> **Close and Halt** to close this notebook.\n",
    "\n",
    "3. Click **Logout** on Jupyter to return your terminal back to the command prompt.\n",
    "\n",
    "4. Follow the assignment instructions to submit this assignment."
   ]
  }
 ],
 "metadata": {
  "kernelspec": {
   "display_name": "Python 3 (ipykernel)",
   "language": "python",
   "name": "python3"
  },
  "language_info": {
   "codemirror_mode": {
    "name": "ipython",
    "version": 3
   },
   "file_extension": ".py",
   "mimetype": "text/x-python",
   "name": "python",
   "nbconvert_exporter": "python",
   "pygments_lexer": "ipython3",
   "version": "3.8.10"
  },
  "toc": {
   "base_numbering": 1,
   "nav_menu": {},
   "number_sections": false,
   "sideBar": true,
   "skip_h1_title": false,
   "title_cell": "Table of Contents",
   "title_sidebar": "Contents",
   "toc_cell": false,
   "toc_position": {},
   "toc_section_display": true,
   "toc_window_display": false
  }
 },
 "nbformat": 4,
 "nbformat_minor": 5
}
