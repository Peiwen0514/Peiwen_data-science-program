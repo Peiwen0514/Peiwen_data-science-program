{
  "cells": [
    {
      "cell_type": "markdown",
      "metadata": {
        "id": "EefFwMsauY49"
      },
      "source": [
        "# HW 10: Supervised Learning with scikit-learn\n",
        "\n",
        "\n",
        "This homework assignment is slightly different from our usual homework assignments. Since this assignment will be manually graded (not auto-graded as usual), there is no such thing as unlimited attempts. You can submit the hw as many times as needed before the deadline, but **only the last submission will be graded**.\n",
        "\n",
        "However, there will be 20 buffer points. That is, in total, there are 120 points in this homework, but the maximum grade is 100 points. For example, if you get 95 points, then your hw10 grade will be 95/100. If you get 115 points, your hw10 grade will be 100/100.\n",
        "\n",
        "**Deadline: 11:59 PM Wednesday 12/08/2021**"
      ]
    },
    {
      "cell_type": "markdown",
      "metadata": {
        "id": "7BcE-EHduY5T"
      },
      "source": [
        "***\n",
        "\n",
        "## 1. Regression\n"
      ]
    },
    {
      "cell_type": "markdown",
      "metadata": {
        "id": "yxj9ZnfbuY5f"
      },
      "source": [
        "In this section, we will work with the Tips Dataset that we have previously worked on in HW 9. Load the data using [this link](https://raw.githubusercontent.com/wesm/pydata-book/2nd-edition/examples/tips.csv).\n"
      ]
    },
    {
      "cell_type": "code",
      "execution_count": 32,
      "metadata": {
        "scrolled": true,
        "colab": {
          "base_uri": "https://localhost:8080/",
          "height": 423
        },
        "id": "nfOyZ8xVuY5n",
        "outputId": "89ca6da4-ada4-4d45-d768-c778fe4a75fc"
      },
      "outputs": [
        {
          "output_type": "execute_result",
          "data": {
            "text/html": [
              "<div>\n",
              "<style scoped>\n",
              "    .dataframe tbody tr th:only-of-type {\n",
              "        vertical-align: middle;\n",
              "    }\n",
              "\n",
              "    .dataframe tbody tr th {\n",
              "        vertical-align: top;\n",
              "    }\n",
              "\n",
              "    .dataframe thead th {\n",
              "        text-align: right;\n",
              "    }\n",
              "</style>\n",
              "<table border=\"1\" class=\"dataframe\">\n",
              "  <thead>\n",
              "    <tr style=\"text-align: right;\">\n",
              "      <th></th>\n",
              "      <th>total_bill</th>\n",
              "      <th>tip</th>\n",
              "      <th>smoker</th>\n",
              "      <th>day</th>\n",
              "      <th>time</th>\n",
              "      <th>size</th>\n",
              "    </tr>\n",
              "  </thead>\n",
              "  <tbody>\n",
              "    <tr>\n",
              "      <th>0</th>\n",
              "      <td>16.99</td>\n",
              "      <td>1.01</td>\n",
              "      <td>No</td>\n",
              "      <td>Sun</td>\n",
              "      <td>Dinner</td>\n",
              "      <td>2</td>\n",
              "    </tr>\n",
              "    <tr>\n",
              "      <th>1</th>\n",
              "      <td>10.34</td>\n",
              "      <td>1.66</td>\n",
              "      <td>No</td>\n",
              "      <td>Sun</td>\n",
              "      <td>Dinner</td>\n",
              "      <td>3</td>\n",
              "    </tr>\n",
              "    <tr>\n",
              "      <th>2</th>\n",
              "      <td>21.01</td>\n",
              "      <td>3.50</td>\n",
              "      <td>No</td>\n",
              "      <td>Sun</td>\n",
              "      <td>Dinner</td>\n",
              "      <td>3</td>\n",
              "    </tr>\n",
              "    <tr>\n",
              "      <th>3</th>\n",
              "      <td>23.68</td>\n",
              "      <td>3.31</td>\n",
              "      <td>No</td>\n",
              "      <td>Sun</td>\n",
              "      <td>Dinner</td>\n",
              "      <td>2</td>\n",
              "    </tr>\n",
              "    <tr>\n",
              "      <th>4</th>\n",
              "      <td>24.59</td>\n",
              "      <td>3.61</td>\n",
              "      <td>No</td>\n",
              "      <td>Sun</td>\n",
              "      <td>Dinner</td>\n",
              "      <td>4</td>\n",
              "    </tr>\n",
              "    <tr>\n",
              "      <th>...</th>\n",
              "      <td>...</td>\n",
              "      <td>...</td>\n",
              "      <td>...</td>\n",
              "      <td>...</td>\n",
              "      <td>...</td>\n",
              "      <td>...</td>\n",
              "    </tr>\n",
              "    <tr>\n",
              "      <th>239</th>\n",
              "      <td>29.03</td>\n",
              "      <td>5.92</td>\n",
              "      <td>No</td>\n",
              "      <td>Sat</td>\n",
              "      <td>Dinner</td>\n",
              "      <td>3</td>\n",
              "    </tr>\n",
              "    <tr>\n",
              "      <th>240</th>\n",
              "      <td>27.18</td>\n",
              "      <td>2.00</td>\n",
              "      <td>Yes</td>\n",
              "      <td>Sat</td>\n",
              "      <td>Dinner</td>\n",
              "      <td>2</td>\n",
              "    </tr>\n",
              "    <tr>\n",
              "      <th>241</th>\n",
              "      <td>22.67</td>\n",
              "      <td>2.00</td>\n",
              "      <td>Yes</td>\n",
              "      <td>Sat</td>\n",
              "      <td>Dinner</td>\n",
              "      <td>2</td>\n",
              "    </tr>\n",
              "    <tr>\n",
              "      <th>242</th>\n",
              "      <td>17.82</td>\n",
              "      <td>1.75</td>\n",
              "      <td>No</td>\n",
              "      <td>Sat</td>\n",
              "      <td>Dinner</td>\n",
              "      <td>2</td>\n",
              "    </tr>\n",
              "    <tr>\n",
              "      <th>243</th>\n",
              "      <td>18.78</td>\n",
              "      <td>3.00</td>\n",
              "      <td>No</td>\n",
              "      <td>Thur</td>\n",
              "      <td>Dinner</td>\n",
              "      <td>2</td>\n",
              "    </tr>\n",
              "  </tbody>\n",
              "</table>\n",
              "<p>244 rows × 6 columns</p>\n",
              "</div>"
            ],
            "text/plain": [
              "     total_bill   tip smoker   day    time  size\n",
              "0         16.99  1.01     No   Sun  Dinner     2\n",
              "1         10.34  1.66     No   Sun  Dinner     3\n",
              "2         21.01  3.50     No   Sun  Dinner     3\n",
              "3         23.68  3.31     No   Sun  Dinner     2\n",
              "4         24.59  3.61     No   Sun  Dinner     4\n",
              "..          ...   ...    ...   ...     ...   ...\n",
              "239       29.03  5.92     No   Sat  Dinner     3\n",
              "240       27.18  2.00    Yes   Sat  Dinner     2\n",
              "241       22.67  2.00    Yes   Sat  Dinner     2\n",
              "242       17.82  1.75     No   Sat  Dinner     2\n",
              "243       18.78  3.00     No  Thur  Dinner     2\n",
              "\n",
              "[244 rows x 6 columns]"
            ]
          },
          "metadata": {},
          "execution_count": 32
        }
      ],
      "source": [
        "# load the data\n",
        "import pandas as pd\n",
        "import ssl\n",
        "ssl._create_default_https_context = ssl._create_unverified_context\n",
        "tips = pd.read_csv('https://raw.githubusercontent.com/wesm/pydata-book/2nd-edition/examples/tips.csv')\n",
        "tips"
      ]
    },
    {
      "cell_type": "markdown",
      "metadata": {
        "id": "tDQ1M06CuY58"
      },
      "source": [
        "- **The goal of this analysis: to predict the amount of tip based on the rest of the data.**"
      ]
    },
    {
      "cell_type": "markdown",
      "metadata": {
        "id": "GCZG8rwPuY5_"
      },
      "source": [
        "### Exercise 1 (20 points)\n",
        "\n",
        "- 1.1 Plot the relationship between the response variable and each of the features.\n",
        "- 1.2 Divide the data into training data and testing data (set `random_state=430`).\n",
        "- 1.3 Fit a Linear Regression model to the training data.\n",
        "- 1.4 Use the fitted model to predict the amount of tip for the following guests:\n",
        "    - Total bill: 38.99, Smoker: no, Day: Sunday, Time: Dinner, Size: 2\n",
        "- 1.5 Compute the model's $R^2$ and RMSE."
      ]
    },
    {
      "cell_type": "code",
      "source": [
        "#1.1 Plot the relationship between the response variable and each of the features.\n",
        "import seaborn as sns\n",
        "sns.set_theme(style=\"ticks\")\n",
        "sns.pairplot(data=tips, \n",
        "             x_vars=[\"total_bill\", \"smoker\", \"day\", \"time\", \"size\"],\n",
        "             y_vars=[\"tip\"])"
      ],
      "metadata": {
        "colab": {
          "base_uri": "https://localhost:8080/",
          "height": 214
        },
        "id": "b0UFhDbPurNv",
        "outputId": "0f041eab-22c2-47a3-a838-481032fa0773"
      },
      "execution_count": 29,
      "outputs": [
        {
          "output_type": "execute_result",
          "data": {
            "text/plain": [
              "<seaborn.axisgrid.PairGrid at 0x7f53fce2e7d0>"
            ]
          },
          "metadata": {},
          "execution_count": 29
        },
        {
          "output_type": "display_data",
          "data": {
            "image/png": "[encoded data removed]",
            "text/plain": [
              "<Figure size 900x180 with 5 Axes>"
            ]
          },
          "metadata": {}
        }
      ]
    },
    {
      "cell_type": "code",
      "source": [
        "#data preprocessing\n",
        "def smoker_to_bullein(x):\n",
        "  if x == 'No':\n",
        "    return 0\n",
        "  elif x == 'Yes':\n",
        "    return 1\n",
        "def day_to_num(x):\n",
        "  if x == 'Sun':\n",
        "    return 1\n",
        "  elif x == 'Sat':\n",
        "    return 2\n",
        "  elif x == 'Fri':\n",
        "    return 3\n",
        "  elif x == 'Thur':\n",
        "    return 4\n",
        "def time_to_num(x):\n",
        "  if x == 'Dinner':\n",
        "    return 0\n",
        "  elif x == 'Lunch':\n",
        "    return 1\n",
        "tips['smoker'] = tips['smoker'].map(smoker_to_bullein)\n",
        "tips['day'] = tips['day'].map(day_to_num)\n",
        "tips['time'] = tips['time'].map(time_to_num)\n",
        "tips"
      ],
      "metadata": {
        "colab": {
          "base_uri": "https://localhost:8080/",
          "height": 423
        },
        "id": "zbBuf5uLwEos",
        "outputId": "b5f006c6-a16f-4ba8-a19e-95f6502b8e1d"
      },
      "execution_count": 33,
      "outputs": [
        {
          "output_type": "execute_result",
          "data": {
            "text/html": [
              "<div>\n",
              "<style scoped>\n",
              "    .dataframe tbody tr th:only-of-type {\n",
              "        vertical-align: middle;\n",
              "    }\n",
              "\n",
              "    .dataframe tbody tr th {\n",
              "        vertical-align: top;\n",
              "    }\n",
              "\n",
              "    .dataframe thead th {\n",
              "        text-align: right;\n",
              "    }\n",
              "</style>\n",
              "<table border=\"1\" class=\"dataframe\">\n",
              "  <thead>\n",
              "    <tr style=\"text-align: right;\">\n",
              "      <th></th>\n",
              "      <th>total_bill</th>\n",
              "      <th>tip</th>\n",
              "      <th>smoker</th>\n",
              "      <th>day</th>\n",
              "      <th>time</th>\n",
              "      <th>size</th>\n",
              "    </tr>\n",
              "  </thead>\n",
              "  <tbody>\n",
              "    <tr>\n",
              "      <th>0</th>\n",
              "      <td>16.99</td>\n",
              "      <td>1.01</td>\n",
              "      <td>0</td>\n",
              "      <td>1</td>\n",
              "      <td>0</td>\n",
              "      <td>2</td>\n",
              "    </tr>\n",
              "    <tr>\n",
              "      <th>1</th>\n",
              "      <td>10.34</td>\n",
              "      <td>1.66</td>\n",
              "      <td>0</td>\n",
              "      <td>1</td>\n",
              "      <td>0</td>\n",
              "      <td>3</td>\n",
              "    </tr>\n",
              "    <tr>\n",
              "      <th>2</th>\n",
              "      <td>21.01</td>\n",
              "      <td>3.50</td>\n",
              "      <td>0</td>\n",
              "      <td>1</td>\n",
              "      <td>0</td>\n",
              "      <td>3</td>\n",
              "    </tr>\n",
              "    <tr>\n",
              "      <th>3</th>\n",
              "      <td>23.68</td>\n",
              "      <td>3.31</td>\n",
              "      <td>0</td>\n",
              "      <td>1</td>\n",
              "      <td>0</td>\n",
              "      <td>2</td>\n",
              "    </tr>\n",
              "    <tr>\n",
              "      <th>4</th>\n",
              "      <td>24.59</td>\n",
              "      <td>3.61</td>\n",
              "      <td>0</td>\n",
              "      <td>1</td>\n",
              "      <td>0</td>\n",
              "      <td>4</td>\n",
              "    </tr>\n",
              "    <tr>\n",
              "      <th>...</th>\n",
              "      <td>...</td>\n",
              "      <td>...</td>\n",
              "      <td>...</td>\n",
              "      <td>...</td>\n",
              "      <td>...</td>\n",
              "      <td>...</td>\n",
              "    </tr>\n",
              "    <tr>\n",
              "      <th>239</th>\n",
              "      <td>29.03</td>\n",
              "      <td>5.92</td>\n",
              "      <td>0</td>\n",
              "      <td>2</td>\n",
              "      <td>0</td>\n",
              "      <td>3</td>\n",
              "    </tr>\n",
              "    <tr>\n",
              "      <th>240</th>\n",
              "      <td>27.18</td>\n",
              "      <td>2.00</td>\n",
              "      <td>1</td>\n",
              "      <td>2</td>\n",
              "      <td>0</td>\n",
              "      <td>2</td>\n",
              "    </tr>\n",
              "    <tr>\n",
              "      <th>241</th>\n",
              "      <td>22.67</td>\n",
              "      <td>2.00</td>\n",
              "      <td>1</td>\n",
              "      <td>2</td>\n",
              "      <td>0</td>\n",
              "      <td>2</td>\n",
              "    </tr>\n",
              "    <tr>\n",
              "      <th>242</th>\n",
              "      <td>17.82</td>\n",
              "      <td>1.75</td>\n",
              "      <td>0</td>\n",
              "      <td>2</td>\n",
              "      <td>0</td>\n",
              "      <td>2</td>\n",
              "    </tr>\n",
              "    <tr>\n",
              "      <th>243</th>\n",
              "      <td>18.78</td>\n",
              "      <td>3.00</td>\n",
              "      <td>0</td>\n",
              "      <td>4</td>\n",
              "      <td>0</td>\n",
              "      <td>2</td>\n",
              "    </tr>\n",
              "  </tbody>\n",
              "</table>\n",
              "<p>244 rows × 6 columns</p>\n",
              "</div>"
            ],
            "text/plain": [
              "     total_bill   tip  smoker  day  time  size\n",
              "0         16.99  1.01       0    1     0     2\n",
              "1         10.34  1.66       0    1     0     3\n",
              "2         21.01  3.50       0    1     0     3\n",
              "3         23.68  3.31       0    1     0     2\n",
              "4         24.59  3.61       0    1     0     4\n",
              "..          ...   ...     ...  ...   ...   ...\n",
              "239       29.03  5.92       0    2     0     3\n",
              "240       27.18  2.00       1    2     0     2\n",
              "241       22.67  2.00       1    2     0     2\n",
              "242       17.82  1.75       0    2     0     2\n",
              "243       18.78  3.00       0    4     0     2\n",
              "\n",
              "[244 rows x 6 columns]"
            ]
          },
          "metadata": {},
          "execution_count": 33
        }
      ]
    },
    {
      "cell_type": "code",
      "source": [
        "#1.2 Divide the data into training data and testing data\n",
        "from sklearn.linear_model import LinearRegression\n",
        "from sklearn.model_selection import train_test_split\n",
        "X = tips[['total_bill']]\n",
        "X_train, X_test, y_train, y_test = train_test_split(tips[[\"total_bill\", \"smoker\", \"day\", \"time\", \"size\"]], tips['tip'], random_state=430)\n",
        "#1.3 Fit a Linear Regression model to the training data.\n",
        "tip_lr= LinearRegression().fit(X_train, y_train)\n",
        "#1.4 Use the fitted model to predict the amount of tip\n",
        "X_new = [[38.99, 0, 1, 0, 2]]\n",
        "y_predict = tip_lr.predict(X_new)\n",
        "y_predict"
      ],
      "metadata": {
        "colab": {
          "base_uri": "https://localhost:8080/"
        },
        "id": "rN6j85OfpQZX",
        "outputId": "c0ca4404-e338-4ba3-910f-2536a92ff877"
      },
      "execution_count": 40,
      "outputs": [
        {
          "output_type": "stream",
          "name": "stderr",
          "text": [
            "/usr/local/lib/python3.7/dist-packages/sklearn/base.py:446: UserWarning: X does not have valid feature names, but LinearRegression was fitted with feature names\n",
            "  \"X does not have valid feature names, but\"\n"
          ]
        },
        {
          "output_type": "execute_result",
          "data": {
            "text/plain": [
              "array([4.32099693])"
            ]
          },
          "metadata": {},
          "execution_count": 40
        }
      ]
    },
    {
      "cell_type": "code",
      "source": [
        "#1.5 Compute the model's R2 and RMSE\n",
        "R_square = tip_lr.score(X_train, y_train)\n",
        "from sklearn.metrics import mean_squared_error\n",
        "y_predict = tip_lr.predict(X_test)\n",
        "RMSE_ = mean_squared_error(y_test, y_predict, squared=False)\n",
        "print(\"R-squared: {:.2f}\".format(R_square), \"RMSE: {:.2f}\".format(RMSE_))\n"
      ],
      "metadata": {
        "colab": {
          "base_uri": "https://localhost:8080/"
        },
        "id": "SrHGZgN1qQOM",
        "outputId": "1960b349-e685-4d03-8bb9-56d5a2adb40f"
      },
      "execution_count": 49,
      "outputs": [
        {
          "output_type": "stream",
          "name": "stdout",
          "text": [
            "R-squared: 0.45 RMSE: 1.34\n"
          ]
        }
      ]
    },
    {
      "cell_type": "markdown",
      "metadata": {
        "id": "qvbDSBcauY6G"
      },
      "source": [
        "### Exercise 2 (10 points)\n",
        "\n",
        "- 2.1 Fit a Linear Regression model (with the constant term in the model) to this data using the `OLS` object in [statsmodels](https://www.statsmodels.org/stable/index.html#).\n",
        "- 2.2 Print out the model summary.\n",
        "- 2.3 Identify the $R^2$ value and compute RMSE."
      ]
    },
    {
      "cell_type": "code",
      "execution_count": 51,
      "metadata": {
        "colab": {
          "base_uri": "https://localhost:8080/",
          "height": 573
        },
        "id": "jc6Pnp3luY6I",
        "outputId": "a0ddc76c-2824-4757-8726-c3951d8fbc5f"
      },
      "outputs": [
        {
          "output_type": "stream",
          "name": "stderr",
          "text": [
            "/usr/local/lib/python3.7/dist-packages/statsmodels/tools/_testing.py:19: FutureWarning: pandas.util.testing is deprecated. Use the functions in the public API at pandas.testing instead.\n",
            "  import pandas.util.testing as tm\n"
          ]
        },
        {
          "output_type": "execute_result",
          "data": {
            "text/html": [
              "<table class=\"simpletable\">\n",
              "<caption>OLS Regression Results</caption>\n",
              "<tr>\n",
              "  <th>Dep. Variable:</th>           <td>tip</td>       <th>  R-squared (uncentered):</th>      <td>   0.911</td>\n",
              "</tr>\n",
              "<tr>\n",
              "  <th>Model:</th>                   <td>OLS</td>       <th>  Adj. R-squared (uncentered):</th> <td>   0.909</td>\n",
              "</tr>\n",
              "<tr>\n",
              "  <th>Method:</th>             <td>Least Squares</td>  <th>  F-statistic:       </th>          <td>   366.3</td>\n",
              "</tr>\n",
              "<tr>\n",
              "  <th>Date:</th>             <td>Wed, 08 Dec 2021</td> <th>  Prob (F-statistic):</th>          <td>1.15e-91</td>\n",
              "</tr>\n",
              "<tr>\n",
              "  <th>Time:</th>                 <td>06:20:32</td>     <th>  Log-Likelihood:    </th>          <td> -248.00</td>\n",
              "</tr>\n",
              "<tr>\n",
              "  <th>No. Observations:</th>      <td>   183</td>      <th>  AIC:               </th>          <td>   506.0</td>\n",
              "</tr>\n",
              "<tr>\n",
              "  <th>Df Residuals:</th>          <td>   178</td>      <th>  BIC:               </th>          <td>   522.1</td>\n",
              "</tr>\n",
              "<tr>\n",
              "  <th>Df Model:</th>              <td>     5</td>      <th>                     </th>              <td> </td>   \n",
              "</tr>\n",
              "<tr>\n",
              "  <th>Covariance Type:</th>      <td>nonrobust</td>    <th>                     </th>              <td> </td>   \n",
              "</tr>\n",
              "</table>\n",
              "<table class=\"simpletable\">\n",
              "<tr>\n",
              "       <td></td>         <th>coef</th>     <th>std err</th>      <th>t</th>      <th>P>|t|</th>  <th>[0.025</th>    <th>0.975]</th>  \n",
              "</tr>\n",
              "<tr>\n",
              "  <th>total_bill</th> <td>    0.0740</td> <td>    0.010</td> <td>    7.124</td> <td> 0.000</td> <td>    0.053</td> <td>    0.094</td>\n",
              "</tr>\n",
              "<tr>\n",
              "  <th>smoker</th>     <td>   -0.0421</td> <td>    0.150</td> <td>   -0.281</td> <td> 0.779</td> <td>   -0.338</td> <td>    0.254</td>\n",
              "</tr>\n",
              "<tr>\n",
              "  <th>day</th>        <td>    0.1366</td> <td>    0.093</td> <td>    1.467</td> <td> 0.144</td> <td>   -0.047</td> <td>    0.320</td>\n",
              "</tr>\n",
              "<tr>\n",
              "  <th>time</th>       <td>   -0.2380</td> <td>    0.294</td> <td>   -0.811</td> <td> 0.419</td> <td>   -0.817</td> <td>    0.341</td>\n",
              "</tr>\n",
              "<tr>\n",
              "  <th>size</th>       <td>    0.4672</td> <td>    0.088</td> <td>    5.330</td> <td> 0.000</td> <td>    0.294</td> <td>    0.640</td>\n",
              "</tr>\n",
              "</table>\n",
              "<table class=\"simpletable\">\n",
              "<tr>\n",
              "  <th>Omnibus:</th>       <td>10.492</td> <th>  Durbin-Watson:     </th> <td>   2.098</td>\n",
              "</tr>\n",
              "<tr>\n",
              "  <th>Prob(Omnibus):</th> <td> 0.005</td> <th>  Jarque-Bera (JB):  </th> <td>  14.226</td>\n",
              "</tr>\n",
              "<tr>\n",
              "  <th>Skew:</th>          <td> 0.371</td> <th>  Prob(JB):          </th> <td>0.000814</td>\n",
              "</tr>\n",
              "<tr>\n",
              "  <th>Kurtosis:</th>      <td> 4.147</td> <th>  Cond. No.          </th> <td>    95.3</td>\n",
              "</tr>\n",
              "</table><br/><br/>Warnings:<br/>[1] Standard Errors assume that the covariance matrix of the errors is correctly specified."
            ],
            "text/plain": [
              "<class 'statsmodels.iolib.summary.Summary'>\n",
              "\"\"\"\n",
              "                                 OLS Regression Results                                \n",
              "=======================================================================================\n",
              "Dep. Variable:                    tip   R-squared (uncentered):                   0.911\n",
              "Model:                            OLS   Adj. R-squared (uncentered):              0.909\n",
              "Method:                 Least Squares   F-statistic:                              366.3\n",
              "Date:                Wed, 08 Dec 2021   Prob (F-statistic):                    1.15e-91\n",
              "Time:                        06:20:32   Log-Likelihood:                         -248.00\n",
              "No. Observations:                 183   AIC:                                      506.0\n",
              "Df Residuals:                     178   BIC:                                      522.1\n",
              "Df Model:                           5                                                  \n",
              "Covariance Type:            nonrobust                                                  \n",
              "==============================================================================\n",
              "                 coef    std err          t      P>|t|      [0.025      0.975]\n",
              "------------------------------------------------------------------------------\n",
              "total_bill     0.0740      0.010      7.124      0.000       0.053       0.094\n",
              "smoker        -0.0421      0.150     -0.281      0.779      -0.338       0.254\n",
              "day            0.1366      0.093      1.467      0.144      -0.047       0.320\n",
              "time          -0.2380      0.294     -0.811      0.419      -0.817       0.341\n",
              "size           0.4672      0.088      5.330      0.000       0.294       0.640\n",
              "==============================================================================\n",
              "Omnibus:                       10.492   Durbin-Watson:                   2.098\n",
              "Prob(Omnibus):                  0.005   Jarque-Bera (JB):               14.226\n",
              "Skew:                           0.371   Prob(JB):                     0.000814\n",
              "Kurtosis:                       4.147   Cond. No.                         95.3\n",
              "==============================================================================\n",
              "\n",
              "Warnings:\n",
              "[1] Standard Errors assume that the covariance matrix of the errors is correctly specified.\n",
              "\"\"\""
            ]
          },
          "metadata": {},
          "execution_count": 51
        }
      ],
      "source": [
        "# your code\n",
        "import statsmodels.api as sm\n",
        "tips_statsmodel = sm.OLS(y_train, X_train)\n",
        "results = tips_statsmodel.fit()\n",
        "results.summary()"
      ]
    },
    {
      "cell_type": "code",
      "source": [
        "#2.3 Identify the R2 value and compute RMSE.\n",
        "#R-square value is 0.911 according to the summary\n",
        "from statsmodels.tools.eval_measures import rmse\n",
        "\n",
        "y_predict = results.predict(X_test)\n",
        "print(\"R-squared: {:.2f}\".format(0.911),\"RMSE: {:.2f}\".format(rmse(y_test, y_predict)))"
      ],
      "metadata": {
        "colab": {
          "base_uri": "https://localhost:8080/"
        },
        "id": "Ui2BYXCVs8wz",
        "outputId": "41e1de88-70fe-4f89-ddca-1a1b7caa89cc"
      },
      "execution_count": 56,
      "outputs": [
        {
          "output_type": "stream",
          "name": "stdout",
          "text": [
            "R-squared: 0.91 RMSE: 1.29\n"
          ]
        }
      ]
    },
    {
      "cell_type": "markdown",
      "metadata": {
        "id": "Ku8HNmFRuY6L"
      },
      "source": [
        "### Exercise 3 (10 points)\n",
        "\n",
        "- 3.1 Fit multiple $k$-nearest neighbors models to the data with $k = 1, 2, 3, 4, 5, 6, 7, 8, 9, 10$.\n",
        "- 3.2 For each model, compute the **RMSE** and **$R^2$**.\n",
        "- 3.3 Plot a line plot of **RMSE** vs. $k$ (x = k, y = RMSE).\n",
        "- 3.4 Plot a line plot of **$R^2$** vs. $k$ (x = k, y = $R^2$)."
      ]
    },
    {
      "cell_type": "code",
      "execution_count": 110,
      "metadata": {
        "colab": {
          "base_uri": "https://localhost:8080/"
        },
        "id": "JvT9U869uY6O",
        "outputId": "e7c8bf45-fd82-4ac6-fd42-fa5e0608ecdb"
      },
      "outputs": [
        {
          "output_type": "stream",
          "name": "stdout",
          "text": [
            "R-squared1: 1.00 RMSE1: 1.32\n",
            "R-squared2: 0.61 RMSE2: 1.12\n",
            "R-squared3: 0.42 RMSE3: 1.06\n",
            "R-squared4: 0.33 RMSE4: 1.01\n",
            "R-squared5: 0.27 RMSE5: 0.97\n",
            "R-squared6: 0.24 RMSE6: 0.96\n",
            "R-squared7: 0.19 RMSE7: 0.96\n",
            "R-squared8: 0.18 RMSE8: 0.95\n",
            "R-squared9: 0.16 RMSE9: 0.96\n",
            "R-squared10: 0.14 RMSE10: 0.95\n"
          ]
        }
      ],
      "source": [
        "# your code\n",
        "#3.2 For each model, compute the RMSE and R2.\n",
        "from sklearn.neighbors import KNeighborsRegressor\n",
        "reg1 = KNeighborsRegressor(n_neighbors=1)\n",
        "reg1.fit(X_train, y_train)\n",
        "y_predict1 = reg1.predict(X_test)\n",
        "print(\"R-squared1: {:.2f}\".format(reg1.score(X_train, y_train)), \"RMSE1: {:.2f}\".format(mean_squared_error(y_test, y_predict1, squared=False)))\n",
        "reg2 = KNeighborsRegressor(n_neighbors=2)\n",
        "reg2.fit(X_train, y_train)\n",
        "y_predict2 = reg2.predict(X_test)\n",
        "print(\"R-squared2: {:.2f}\".format(reg2.score(X_train, y_train)), \"RMSE2: {:.2f}\".format(mean_squared_error(y_test, y_predict2, squared=False)))\n",
        "reg3 = KNeighborsRegressor(n_neighbors=3)\n",
        "reg3.fit(X_train, y_train)\n",
        "y_predict3 = reg3.predict(X_test)\n",
        "print(\"R-squared3: {:.2f}\".format(reg3.score(X_train, y_train)), \"RMSE3: {:.2f}\".format(mean_squared_error(y_test, y_predict3, squared=False)))\n",
        "reg4 = KNeighborsRegressor(n_neighbors=4)\n",
        "reg4.fit(X_train, y_train)\n",
        "y_predict4 = reg4.predict(X_test)\n",
        "print(\"R-squared4: {:.2f}\".format(reg4.score(X_train, y_train)), \"RMSE4: {:.2f}\".format(mean_squared_error(y_test, y_predict4, squared=False)))\n",
        "reg5 = KNeighborsRegressor(n_neighbors=5)\n",
        "reg5.fit(X_train, y_train)\n",
        "y_predict5 = reg5.predict(X_test)\n",
        "print(\"R-squared5: {:.2f}\".format(reg5.score(X_train, y_train)), \"RMSE5: {:.2f}\".format(mean_squared_error(y_test, y_predict5, squared=False)))\n",
        "reg6 = KNeighborsRegressor(n_neighbors=6)\n",
        "reg6.fit(X_train, y_train)\n",
        "y_predict6 = reg6.predict(X_test)\n",
        "print(\"R-squared6: {:.2f}\".format(reg6.score(X_train, y_train)), \"RMSE6: {:.2f}\".format(mean_squared_error(y_test, y_predict6, squared=False)))\n",
        "reg7 = KNeighborsRegressor(n_neighbors=7)\n",
        "reg7.fit(X_train, y_train)\n",
        "y_predict7 = reg7.predict(X_test)\n",
        "print(\"R-squared7: {:.2f}\".format(reg7.score(X_train, y_train)), \"RMSE7: {:.2f}\".format(mean_squared_error(y_test, y_predict7, squared=False)))\n",
        "reg8 = KNeighborsRegressor(n_neighbors=8)\n",
        "reg8.fit(X_train, y_train)\n",
        "y_predict8 = reg8.predict(X_test)\n",
        "print(\"R-squared8: {:.2f}\".format(reg8.score(X_train, y_train)), \"RMSE8: {:.2f}\".format(mean_squared_error(y_test, y_predict8, squared=False)))\n",
        "reg9 = KNeighborsRegressor(n_neighbors=9)\n",
        "reg9.fit(X_train, y_train)\n",
        "y_predict9 = reg9.predict(X_test)\n",
        "print(\"R-squared9: {:.2f}\".format(reg9.score(X_train, y_train)), \"RMSE9: {:.2f}\".format(mean_squared_error(y_test, y_predict9, squared=False)))\n",
        "reg10 = KNeighborsRegressor(n_neighbors=10)\n",
        "reg10.fit(X_train, y_train)\n",
        "y_predict10 = reg10.predict(X_test)\n",
        "print(\"R-squared10: {:.2f}\".format(reg10.score(X_train, y_train)), \"RMSE10: {:.2f}\".format(mean_squared_error(y_test, y_predict10, squared=False)))\n"
      ]
    },
    {
      "cell_type": "code",
      "source": [
        "#3.3 Plot a line plot of RMSE vs. k (x = k, y = RMSE)\n",
        "import matplotlib.pyplot as plt\n",
        "x = [1, 2, 3, 4, 5, 6, 7, 8, 9, 10]\n",
        "y = [mean_squared_error(y_test, y_predict1, squared=False),mean_squared_error(y_test, y_predict2, squared=False),\n",
        "     mean_squared_error(y_test, y_predict3, squared=False),mean_squared_error(y_test, y_predict4, squared=False),\n",
        "     mean_squared_error(y_test, y_predict5, squared=False),mean_squared_error(y_test, y_predict6, squared=False),\n",
        "     mean_squared_error(y_test, y_predict7, squared=False),mean_squared_error(y_test, y_predict8, squared=False),\n",
        "     mean_squared_error(y_test, y_predict9, squared=False),mean_squared_error(y_test, y_predict10, squared=False)]\n",
        "plt.plot(x,y)"
      ],
      "metadata": {
        "colab": {
          "base_uri": "https://localhost:8080/",
          "height": 287
        },
        "id": "uKcD2PfP56Vl",
        "outputId": "64226280-142c-438f-b8ed-46387a937de5"
      },
      "execution_count": 111,
      "outputs": [
        {
          "output_type": "execute_result",
          "data": {
            "text/plain": [
              "[<matplotlib.lines.Line2D at 0x7f53ec05f690>]"
            ]
          },
          "metadata": {},
          "execution_count": 111
        },
        {
          "output_type": "display_data",
          "data": {
            "image/png": "[encoded data removed]",
            "text/plain": [
              "<Figure size 432x288 with 1 Axes>"
            ]
          },
          "metadata": {}
        }
      ]
    },
    {
      "cell_type": "code",
      "source": [
        "#3.4 Plot a line plot of R2 vs. k (x = k, y = R2)\n",
        "x = [1, 2, 3, 4, 5, 6, 7, 8, 9, 10]\n",
        "y = [reg1.score(X_train, y_train),reg2.score(X_train, y_train),\n",
        "     reg3.score(X_train, y_train),reg4.score(X_train, y_train),\n",
        "     reg5.score(X_train, y_train),reg6.score(X_train, y_train),\n",
        "     reg7.score(X_train, y_train),reg8.score(X_train, y_train),\n",
        "     reg9.score(X_train, y_train),reg10.score(X_train, y_train)]\n",
        "plt.plot(x,y)"
      ],
      "metadata": {
        "colab": {
          "base_uri": "https://localhost:8080/",
          "height": 287
        },
        "id": "TKvFPzafvKIs",
        "outputId": "7aefe7f5-f91d-4429-c3e0-f2f83efde70a"
      },
      "execution_count": 112,
      "outputs": [
        {
          "output_type": "execute_result",
          "data": {
            "text/plain": [
              "[<matplotlib.lines.Line2D at 0x7f53ebfcc1d0>]"
            ]
          },
          "metadata": {},
          "execution_count": 112
        },
        {
          "output_type": "display_data",
          "data": {
            "image/png": "[encoded data removed]",
            "text/plain": [
              "<Figure size 432x288 with 1 Axes>"
            ]
          },
          "metadata": {}
        }
      ]
    },
    {
      "cell_type": "markdown",
      "metadata": {
        "id": "A0E-2byeuY6S"
      },
      "source": [
        "***\n",
        "\n",
        "## 2. Classification"
      ]
    },
    {
      "cell_type": "markdown",
      "metadata": {
        "id": "OL3kZVESuY6T"
      },
      "source": [
        "In this section, we will work with the [Breast Cancer Wisconsin (Original) Data Set](https://archive.ics.uci.edu/ml/datasets/breast+cancer+wisconsin+(original)) provided by UCI Machine Learning Repository.\n",
        "\n",
        "- Load the data using [this link](https://archive.ics.uci.edu/ml/machine-learning-databases/breast-cancer-wisconsin/breast-cancer-wisconsin.data).\n",
        "- Make sure the columns' dtypes are correct! All of them should be numeric.\n",
        "    - Hint: look for how missing values are recorded in the dataset description."
      ]
    },
    {
      "cell_type": "code",
      "execution_count": 12,
      "metadata": {
        "colab": {
          "base_uri": "https://localhost:8080/",
          "height": 507
        },
        "id": "zI1gKYZIuY6V",
        "outputId": "270336bc-0df2-4514-ed08-116421fb4963"
      },
      "outputs": [
        {
          "output_type": "execute_result",
          "data": {
            "text/html": [
              "<div>\n",
              "<style scoped>\n",
              "    .dataframe tbody tr th:only-of-type {\n",
              "        vertical-align: middle;\n",
              "    }\n",
              "\n",
              "    .dataframe tbody tr th {\n",
              "        vertical-align: top;\n",
              "    }\n",
              "\n",
              "    .dataframe thead th {\n",
              "        text-align: right;\n",
              "    }\n",
              "</style>\n",
              "<table border=\"1\" class=\"dataframe\">\n",
              "  <thead>\n",
              "    <tr style=\"text-align: right;\">\n",
              "      <th></th>\n",
              "      <th>Clump Thickness</th>\n",
              "      <th>Uniformity of Cell Size</th>\n",
              "      <th>Uniformity of Cell Shape</th>\n",
              "      <th>Marginal Adhesion</th>\n",
              "      <th>Single Epithelial Cell Size</th>\n",
              "      <th>Bare Nuclei</th>\n",
              "      <th>Bland Chromatin</th>\n",
              "      <th>Normal Nucleoli</th>\n",
              "      <th>Mitoses</th>\n",
              "      <th>Class</th>\n",
              "    </tr>\n",
              "    <tr>\n",
              "      <th>id number</th>\n",
              "      <th></th>\n",
              "      <th></th>\n",
              "      <th></th>\n",
              "      <th></th>\n",
              "      <th></th>\n",
              "      <th></th>\n",
              "      <th></th>\n",
              "      <th></th>\n",
              "      <th></th>\n",
              "      <th></th>\n",
              "    </tr>\n",
              "  </thead>\n",
              "  <tbody>\n",
              "    <tr>\n",
              "      <th>1000025</th>\n",
              "      <td>5.0</td>\n",
              "      <td>1.0</td>\n",
              "      <td>1.0</td>\n",
              "      <td>1.0</td>\n",
              "      <td>2.0</td>\n",
              "      <td>1.0</td>\n",
              "      <td>3.0</td>\n",
              "      <td>1.0</td>\n",
              "      <td>1.0</td>\n",
              "      <td>2</td>\n",
              "    </tr>\n",
              "    <tr>\n",
              "      <th>1002945</th>\n",
              "      <td>5.0</td>\n",
              "      <td>4.0</td>\n",
              "      <td>4.0</td>\n",
              "      <td>5.0</td>\n",
              "      <td>7.0</td>\n",
              "      <td>10.0</td>\n",
              "      <td>3.0</td>\n",
              "      <td>2.0</td>\n",
              "      <td>1.0</td>\n",
              "      <td>2</td>\n",
              "    </tr>\n",
              "    <tr>\n",
              "      <th>1015425</th>\n",
              "      <td>3.0</td>\n",
              "      <td>1.0</td>\n",
              "      <td>1.0</td>\n",
              "      <td>1.0</td>\n",
              "      <td>2.0</td>\n",
              "      <td>2.0</td>\n",
              "      <td>3.0</td>\n",
              "      <td>1.0</td>\n",
              "      <td>1.0</td>\n",
              "      <td>2</td>\n",
              "    </tr>\n",
              "    <tr>\n",
              "      <th>1016277</th>\n",
              "      <td>6.0</td>\n",
              "      <td>8.0</td>\n",
              "      <td>8.0</td>\n",
              "      <td>1.0</td>\n",
              "      <td>3.0</td>\n",
              "      <td>4.0</td>\n",
              "      <td>3.0</td>\n",
              "      <td>7.0</td>\n",
              "      <td>1.0</td>\n",
              "      <td>2</td>\n",
              "    </tr>\n",
              "    <tr>\n",
              "      <th>1017023</th>\n",
              "      <td>4.0</td>\n",
              "      <td>1.0</td>\n",
              "      <td>1.0</td>\n",
              "      <td>3.0</td>\n",
              "      <td>2.0</td>\n",
              "      <td>1.0</td>\n",
              "      <td>3.0</td>\n",
              "      <td>1.0</td>\n",
              "      <td>1.0</td>\n",
              "      <td>2</td>\n",
              "    </tr>\n",
              "    <tr>\n",
              "      <th>...</th>\n",
              "      <td>...</td>\n",
              "      <td>...</td>\n",
              "      <td>...</td>\n",
              "      <td>...</td>\n",
              "      <td>...</td>\n",
              "      <td>...</td>\n",
              "      <td>...</td>\n",
              "      <td>...</td>\n",
              "      <td>...</td>\n",
              "      <td>...</td>\n",
              "    </tr>\n",
              "    <tr>\n",
              "      <th>776715</th>\n",
              "      <td>3.0</td>\n",
              "      <td>1.0</td>\n",
              "      <td>1.0</td>\n",
              "      <td>1.0</td>\n",
              "      <td>3.0</td>\n",
              "      <td>2.0</td>\n",
              "      <td>1.0</td>\n",
              "      <td>1.0</td>\n",
              "      <td>1.0</td>\n",
              "      <td>2</td>\n",
              "    </tr>\n",
              "    <tr>\n",
              "      <th>841769</th>\n",
              "      <td>2.0</td>\n",
              "      <td>1.0</td>\n",
              "      <td>1.0</td>\n",
              "      <td>1.0</td>\n",
              "      <td>2.0</td>\n",
              "      <td>1.0</td>\n",
              "      <td>1.0</td>\n",
              "      <td>1.0</td>\n",
              "      <td>1.0</td>\n",
              "      <td>2</td>\n",
              "    </tr>\n",
              "    <tr>\n",
              "      <th>888820</th>\n",
              "      <td>5.0</td>\n",
              "      <td>10.0</td>\n",
              "      <td>10.0</td>\n",
              "      <td>3.0</td>\n",
              "      <td>7.0</td>\n",
              "      <td>3.0</td>\n",
              "      <td>8.0</td>\n",
              "      <td>10.0</td>\n",
              "      <td>2.0</td>\n",
              "      <td>4</td>\n",
              "    </tr>\n",
              "    <tr>\n",
              "      <th>897471</th>\n",
              "      <td>4.0</td>\n",
              "      <td>8.0</td>\n",
              "      <td>6.0</td>\n",
              "      <td>4.0</td>\n",
              "      <td>3.0</td>\n",
              "      <td>4.0</td>\n",
              "      <td>10.0</td>\n",
              "      <td>6.0</td>\n",
              "      <td>1.0</td>\n",
              "      <td>4</td>\n",
              "    </tr>\n",
              "    <tr>\n",
              "      <th>897471</th>\n",
              "      <td>4.0</td>\n",
              "      <td>8.0</td>\n",
              "      <td>8.0</td>\n",
              "      <td>5.0</td>\n",
              "      <td>4.0</td>\n",
              "      <td>5.0</td>\n",
              "      <td>10.0</td>\n",
              "      <td>4.0</td>\n",
              "      <td>1.0</td>\n",
              "      <td>4</td>\n",
              "    </tr>\n",
              "  </tbody>\n",
              "</table>\n",
              "<p>699 rows × 10 columns</p>\n",
              "</div>"
            ],
            "text/plain": [
              "           Clump Thickness  Uniformity of Cell Size  ...  Mitoses  Class\n",
              "id number                                            ...                \n",
              "1000025                5.0                      1.0  ...      1.0      2\n",
              "1002945                5.0                      4.0  ...      1.0      2\n",
              "1015425                3.0                      1.0  ...      1.0      2\n",
              "1016277                6.0                      8.0  ...      1.0      2\n",
              "1017023                4.0                      1.0  ...      1.0      2\n",
              "...                    ...                      ...  ...      ...    ...\n",
              "776715                 3.0                      1.0  ...      1.0      2\n",
              "841769                 2.0                      1.0  ...      1.0      2\n",
              "888820                 5.0                     10.0  ...      2.0      4\n",
              "897471                 4.0                      8.0  ...      1.0      4\n",
              "897471                 4.0                      8.0  ...      1.0      4\n",
              "\n",
              "[699 rows x 10 columns]"
            ]
          },
          "metadata": {},
          "execution_count": 12
        }
      ],
      "source": [
        "# load the data\n",
        "import pandas as pd\n",
        "BCW = pd.read_csv('https://archive.ics.uci.edu/ml/machine-learning-databases/breast-cancer-wisconsin/breast-cancer-wisconsin.data', names = ['id number','Clump Thickness',\n",
        "'Uniformity of Cell Size',\n",
        "'Uniformity of Cell Shape',\n",
        "'Marginal Adhesion',\n",
        "'Single Epithelial Cell Size',\n",
        "'Bare Nuclei',\n",
        "'Bland Chromatin',\n",
        "'Normal Nucleoli',\n",
        "'Mitoses',\n",
        "'Class'], dtype = {'Clump Thickness':'float64','Uniformity of Cell Size':'float64','Uniformity of Cell Shape':'float64',\n",
        "                   'Marginal Adhesion':'float64','Single Epithelial Cell Size':'float64','Bare Nuclei':'float64','Bland Chromatin':'float64',\n",
        "                   'Normal Nucleoli':'float64','Mitoses':'float64'},na_values = '?')\n",
        "BCW.set_index(['id number'],inplace=True)\n",
        "BCW"
      ]
    },
    {
      "cell_type": "markdown",
      "metadata": {
        "id": "uGMXc1GHuY6W"
      },
      "source": [
        "### Exercise 4 (20 points)\n",
        "\n",
        "- 4.1 How many observations contain missing data? Which variable contains missing data? Remove observations with missing data!\n",
        "- 4.2 Divide the data into training data and testing data (set `random_state=430`).\n",
        "- 4.3 Fit a Logistic Regression model\n",
        "    - **Treat the features as numeric variables in this exercise!**\n",
        "- 4.4 Compute the model's training and test accuracy."
      ]
    },
    {
      "cell_type": "code",
      "execution_count": 13,
      "metadata": {
        "colab": {
          "base_uri": "https://localhost:8080/"
        },
        "id": "V9s7cWxZuY6Y",
        "outputId": "832772c9-28d7-41b6-cf8a-55e077ec3756"
      },
      "outputs": [
        {
          "output_type": "execute_result",
          "data": {
            "text/plain": [
              "Clump Thickness                 0\n",
              "Uniformity of Cell Size         0\n",
              "Uniformity of Cell Shape        0\n",
              "Marginal Adhesion               0\n",
              "Single Epithelial Cell Size     0\n",
              "Bare Nuclei                    16\n",
              "Bland Chromatin                 0\n",
              "Normal Nucleoli                 0\n",
              "Mitoses                         0\n",
              "Class                           0\n",
              "dtype: int64"
            ]
          },
          "metadata": {},
          "execution_count": 13
        }
      ],
      "source": [
        "# your code\n",
        "#How many observations contain missing data?\n",
        "BCW.isnull().sum()\n",
        "#Which variable contains missing data? - Answer: Bare Nuclei"
      ]
    },
    {
      "cell_type": "code",
      "source": [
        "#Remove observations with missing data\n",
        "BCW_cleaned = BCW.dropna()\n",
        "BCW_cleaned"
      ],
      "metadata": {
        "colab": {
          "base_uri": "https://localhost:8080/",
          "height": 507
        },
        "id": "Y3dIuE3Lz5L4",
        "outputId": "fd4c3192-6934-4716-a1dd-4f5984423bcc"
      },
      "execution_count": 14,
      "outputs": [
        {
          "output_type": "execute_result",
          "data": {
            "text/html": [
              "<div>\n",
              "<style scoped>\n",
              "    .dataframe tbody tr th:only-of-type {\n",
              "        vertical-align: middle;\n",
              "    }\n",
              "\n",
              "    .dataframe tbody tr th {\n",
              "        vertical-align: top;\n",
              "    }\n",
              "\n",
              "    .dataframe thead th {\n",
              "        text-align: right;\n",
              "    }\n",
              "</style>\n",
              "<table border=\"1\" class=\"dataframe\">\n",
              "  <thead>\n",
              "    <tr style=\"text-align: right;\">\n",
              "      <th></th>\n",
              "      <th>Clump Thickness</th>\n",
              "      <th>Uniformity of Cell Size</th>\n",
              "      <th>Uniformity of Cell Shape</th>\n",
              "      <th>Marginal Adhesion</th>\n",
              "      <th>Single Epithelial Cell Size</th>\n",
              "      <th>Bare Nuclei</th>\n",
              "      <th>Bland Chromatin</th>\n",
              "      <th>Normal Nucleoli</th>\n",
              "      <th>Mitoses</th>\n",
              "      <th>Class</th>\n",
              "    </tr>\n",
              "    <tr>\n",
              "      <th>id number</th>\n",
              "      <th></th>\n",
              "      <th></th>\n",
              "      <th></th>\n",
              "      <th></th>\n",
              "      <th></th>\n",
              "      <th></th>\n",
              "      <th></th>\n",
              "      <th></th>\n",
              "      <th></th>\n",
              "      <th></th>\n",
              "    </tr>\n",
              "  </thead>\n",
              "  <tbody>\n",
              "    <tr>\n",
              "      <th>1000025</th>\n",
              "      <td>5.0</td>\n",
              "      <td>1.0</td>\n",
              "      <td>1.0</td>\n",
              "      <td>1.0</td>\n",
              "      <td>2.0</td>\n",
              "      <td>1.0</td>\n",
              "      <td>3.0</td>\n",
              "      <td>1.0</td>\n",
              "      <td>1.0</td>\n",
              "      <td>2</td>\n",
              "    </tr>\n",
              "    <tr>\n",
              "      <th>1002945</th>\n",
              "      <td>5.0</td>\n",
              "      <td>4.0</td>\n",
              "      <td>4.0</td>\n",
              "      <td>5.0</td>\n",
              "      <td>7.0</td>\n",
              "      <td>10.0</td>\n",
              "      <td>3.0</td>\n",
              "      <td>2.0</td>\n",
              "      <td>1.0</td>\n",
              "      <td>2</td>\n",
              "    </tr>\n",
              "    <tr>\n",
              "      <th>1015425</th>\n",
              "      <td>3.0</td>\n",
              "      <td>1.0</td>\n",
              "      <td>1.0</td>\n",
              "      <td>1.0</td>\n",
              "      <td>2.0</td>\n",
              "      <td>2.0</td>\n",
              "      <td>3.0</td>\n",
              "      <td>1.0</td>\n",
              "      <td>1.0</td>\n",
              "      <td>2</td>\n",
              "    </tr>\n",
              "    <tr>\n",
              "      <th>1016277</th>\n",
              "      <td>6.0</td>\n",
              "      <td>8.0</td>\n",
              "      <td>8.0</td>\n",
              "      <td>1.0</td>\n",
              "      <td>3.0</td>\n",
              "      <td>4.0</td>\n",
              "      <td>3.0</td>\n",
              "      <td>7.0</td>\n",
              "      <td>1.0</td>\n",
              "      <td>2</td>\n",
              "    </tr>\n",
              "    <tr>\n",
              "      <th>1017023</th>\n",
              "      <td>4.0</td>\n",
              "      <td>1.0</td>\n",
              "      <td>1.0</td>\n",
              "      <td>3.0</td>\n",
              "      <td>2.0</td>\n",
              "      <td>1.0</td>\n",
              "      <td>3.0</td>\n",
              "      <td>1.0</td>\n",
              "      <td>1.0</td>\n",
              "      <td>2</td>\n",
              "    </tr>\n",
              "    <tr>\n",
              "      <th>...</th>\n",
              "      <td>...</td>\n",
              "      <td>...</td>\n",
              "      <td>...</td>\n",
              "      <td>...</td>\n",
              "      <td>...</td>\n",
              "      <td>...</td>\n",
              "      <td>...</td>\n",
              "      <td>...</td>\n",
              "      <td>...</td>\n",
              "      <td>...</td>\n",
              "    </tr>\n",
              "    <tr>\n",
              "      <th>776715</th>\n",
              "      <td>3.0</td>\n",
              "      <td>1.0</td>\n",
              "      <td>1.0</td>\n",
              "      <td>1.0</td>\n",
              "      <td>3.0</td>\n",
              "      <td>2.0</td>\n",
              "      <td>1.0</td>\n",
              "      <td>1.0</td>\n",
              "      <td>1.0</td>\n",
              "      <td>2</td>\n",
              "    </tr>\n",
              "    <tr>\n",
              "      <th>841769</th>\n",
              "      <td>2.0</td>\n",
              "      <td>1.0</td>\n",
              "      <td>1.0</td>\n",
              "      <td>1.0</td>\n",
              "      <td>2.0</td>\n",
              "      <td>1.0</td>\n",
              "      <td>1.0</td>\n",
              "      <td>1.0</td>\n",
              "      <td>1.0</td>\n",
              "      <td>2</td>\n",
              "    </tr>\n",
              "    <tr>\n",
              "      <th>888820</th>\n",
              "      <td>5.0</td>\n",
              "      <td>10.0</td>\n",
              "      <td>10.0</td>\n",
              "      <td>3.0</td>\n",
              "      <td>7.0</td>\n",
              "      <td>3.0</td>\n",
              "      <td>8.0</td>\n",
              "      <td>10.0</td>\n",
              "      <td>2.0</td>\n",
              "      <td>4</td>\n",
              "    </tr>\n",
              "    <tr>\n",
              "      <th>897471</th>\n",
              "      <td>4.0</td>\n",
              "      <td>8.0</td>\n",
              "      <td>6.0</td>\n",
              "      <td>4.0</td>\n",
              "      <td>3.0</td>\n",
              "      <td>4.0</td>\n",
              "      <td>10.0</td>\n",
              "      <td>6.0</td>\n",
              "      <td>1.0</td>\n",
              "      <td>4</td>\n",
              "    </tr>\n",
              "    <tr>\n",
              "      <th>897471</th>\n",
              "      <td>4.0</td>\n",
              "      <td>8.0</td>\n",
              "      <td>8.0</td>\n",
              "      <td>5.0</td>\n",
              "      <td>4.0</td>\n",
              "      <td>5.0</td>\n",
              "      <td>10.0</td>\n",
              "      <td>4.0</td>\n",
              "      <td>1.0</td>\n",
              "      <td>4</td>\n",
              "    </tr>\n",
              "  </tbody>\n",
              "</table>\n",
              "<p>683 rows × 10 columns</p>\n",
              "</div>"
            ],
            "text/plain": [
              "           Clump Thickness  Uniformity of Cell Size  ...  Mitoses  Class\n",
              "id number                                            ...                \n",
              "1000025                5.0                      1.0  ...      1.0      2\n",
              "1002945                5.0                      4.0  ...      1.0      2\n",
              "1015425                3.0                      1.0  ...      1.0      2\n",
              "1016277                6.0                      8.0  ...      1.0      2\n",
              "1017023                4.0                      1.0  ...      1.0      2\n",
              "...                    ...                      ...  ...      ...    ...\n",
              "776715                 3.0                      1.0  ...      1.0      2\n",
              "841769                 2.0                      1.0  ...      1.0      2\n",
              "888820                 5.0                     10.0  ...      2.0      4\n",
              "897471                 4.0                      8.0  ...      1.0      4\n",
              "897471                 4.0                      8.0  ...      1.0      4\n",
              "\n",
              "[683 rows x 10 columns]"
            ]
          },
          "metadata": {},
          "execution_count": 14
        }
      ]
    },
    {
      "cell_type": "code",
      "source": [
        "#4.2 Divide the data into training data and testing data (set random_state=430).\n",
        "from sklearn.model_selection import train_test_split\n",
        "\n",
        "X_train, X_test, y_train, y_test = train_test_split(\n",
        "                                        BCW_cleaned.loc[:, BCW_cleaned.columns != 'Class'], BCW_cleaned['Class'],\n",
        "                                        random_state=430)\n",
        "#4.3 Fit a Logistic Regression model\n",
        "from sklearn.linear_model import LogisticRegression\n",
        "logic_reg = LogisticRegression().fit(X_train, y_train)\n",
        "#4.4 Compute the model's training and test accuracy.\n",
        "print(\"Training set accuracy: {:.2f}\".format(logic_reg.score(X_train, y_train)))\n",
        "print(\"Test set accuracy: {:.2f}\".format(logic_reg.score(X_test, y_test)))"
      ],
      "metadata": {
        "colab": {
          "base_uri": "https://localhost:8080/"
        },
        "id": "CHIWPzxS0S1E",
        "outputId": "65144463-2acf-45d0-f2bc-b52dfebe451d"
      },
      "execution_count": 15,
      "outputs": [
        {
          "output_type": "stream",
          "name": "stdout",
          "text": [
            "Training set accuracy: 0.97\n",
            "Test set accuracy: 0.98\n"
          ]
        }
      ]
    },
    {
      "cell_type": "markdown",
      "metadata": {
        "id": "f6i5pJwruY6a"
      },
      "source": [
        "### Exercise 5 (20 points)\n",
        "\n",
        "- 5.1 Fit a Logistic Regression model\n",
        "    - **Treat the features as ordinal (ordered categorical) variables in this exercise!**\n",
        "- 5.2 Compute the model's training and test accuracy."
      ]
    },
    {
      "cell_type": "code",
      "execution_count": 26,
      "metadata": {
        "colab": {
          "base_uri": "https://localhost:8080/"
        },
        "id": "LO43NLOLuY6d",
        "outputId": "7cc7fb75-16bc-4c83-c058-a9310055cd1a"
      },
      "outputs": [
        {
          "output_type": "stream",
          "name": "stdout",
          "text": [
            "Training set accuracy_category: 0.98\n",
            "Test set accuracy_category: 0.98\n"
          ]
        }
      ],
      "source": [
        "# your code\n",
        "#5.1 Fit a Logistic Regression model\n",
        "import pandas as pd\n",
        "BCW = pd.read_csv('https://archive.ics.uci.edu/ml/machine-learning-databases/breast-cancer-wisconsin/breast-cancer-wisconsin.data', names = ['id number','Clump Thickness',\n",
        "'Uniformity of Cell Size',\n",
        "'Uniformity of Cell Shape',\n",
        "'Marginal Adhesion',\n",
        "'Single Epithelial Cell Size',\n",
        "'Bare Nuclei',\n",
        "'Bland Chromatin',\n",
        "'Normal Nucleoli',\n",
        "'Mitoses',\n",
        "'Class'], dtype = {'Clump Thickness':'float64','Uniformity of Cell Size':'float64','Uniformity of Cell Shape':'float64',\n",
        "                   'Marginal Adhesion':'float64','Single Epithelial Cell Size':'float64','Bare Nuclei':'float64','Bland Chromatin':'float64',\n",
        "                   'Normal Nucleoli':'float64','Mitoses':'float64'},na_values = '?')\n",
        "BCW.set_index(['id number'],inplace=True)\n",
        "#Treat the features as ordinal (ordered categorical) variables in this exercise!\n",
        "BCW['Clump Thickness'] = BCW['Clump Thickness'].astype('category')\n",
        "BCW['Uniformity of Cell Size'] = BCW['Uniformity of Cell Size'].astype('category')\n",
        "BCW['Uniformity of Cell Shape'] = BCW['Uniformity of Cell Shape'].astype('category')\n",
        "BCW['Marginal Adhesion'] = BCW['Marginal Adhesion'].astype('category')\n",
        "BCW['Single Epithelial Cell Size'] = BCW['Single Epithelial Cell Size'].astype('category')\n",
        "BCW['Bare Nuclei'] = BCW['Bare Nuclei'].astype('category')\n",
        "BCW['Bland Chromatin'] = BCW['Bland Chromatin'].astype('category')\n",
        "BCW['Normal Nucleoli'] = BCW['Normal Nucleoli'].astype('category')\n",
        "BCW['Mitoses'] = BCW['Mitoses'].astype('category')\n",
        "\n",
        "BCW_cleaned = BCW.dropna()\n",
        "BCW_cleaned = pd.get_dummies(data=BCW_cleaned, drop_first=True)\n",
        "from sklearn.model_selection import train_test_split\n",
        "\n",
        "X_train, X_test, y_train, y_test = train_test_split(\n",
        "                                        BCW_cleaned.loc[:, BCW_cleaned.columns != 'Class'], BCW_cleaned['Class'],\n",
        "                                        random_state=430)\n",
        "from sklearn.linear_model import LogisticRegression\n",
        "logic_reg = LogisticRegression().fit(X_train, y_train)\n",
        "logic_reg\n",
        "#5.2 Compute the model's training and test accuracy.\n",
        "print(\"Training set accuracy_category: {:.2f}\".format(logic_reg.score(X_train, y_train)))\n",
        "print(\"Test set accuracy_category: {:.2f}\".format(logic_reg.score(X_test, y_test)))"
      ]
    },
    {
      "cell_type": "markdown",
      "metadata": {
        "id": "G4DSeJjIuY6f"
      },
      "source": [
        "### Exercise 6 (20 points)\n",
        "\n",
        "- 6.1 Fit multiple $k$-nearest neighbors models to the data with $k = 1, 2, 3, 4, 5, 6, 7, 8, 9, 10$.\n",
        "- 6.2 For each model, compute the training and testing accuracy.\n",
        "- 6.3 Plot **a single plot** with 2 lines: 1 corresponding to training accuracy, the other corresponding to testing accuracy (the x-axis should be $k$, the y-axis should be percentage)."
      ]
    },
    {
      "cell_type": "code",
      "execution_count": 113,
      "metadata": {
        "colab": {
          "base_uri": "https://localhost:8080/"
        },
        "id": "1CZB_WgpuY6g",
        "outputId": "dd2d2f98-ed2a-4b74-b2aa-869b371df700"
      },
      "outputs": [
        {
          "output_type": "stream",
          "name": "stdout",
          "text": [
            "Training set accuracy1: 1.00 Test set accuracy1: 0.57\n",
            "Training set accuracy2: 0.81 Test set accuracy2: 0.66\n",
            "Training set accuracy3: 0.80 Test set accuracy3: 0.60\n",
            "Training set accuracy4: 0.75 Test set accuracy4: 0.67\n",
            "Training set accuracy5: 0.74 Test set accuracy5: 0.65\n",
            "Training set accuracy6: 0.71 Test set accuracy6: 0.67\n",
            "Training set accuracy7: 0.71 Test set accuracy7: 0.65\n",
            "Training set accuracy8: 0.69 Test set accuracy8: 0.67\n",
            "Training set accuracy9: 0.70 Test set accuracy9: 0.65\n",
            "Training set accuracy10: 0.69 Test set accuracy10: 0.68\n"
          ]
        }
      ],
      "source": [
        "# your code\n",
        "#6.2 For each model, compute the training and testing accuracy.\n",
        "from sklearn.neighbors import KNeighborsClassifier\n",
        "cleveland_knn1 = KNeighborsClassifier(n_neighbors=1)\n",
        "cleveland_knn1.fit(X_train, y_train)\n",
        "print(\"Training set accuracy1: {:.2f}\".format(cleveland_knn1.score(X_train, y_train)), \n",
        "      \"Test set accuracy1: {:.2f}\".format(cleveland_knn1.score(X_test, y_test)))\n",
        "cleveland_knn2 = KNeighborsClassifier(n_neighbors=2)\n",
        "cleveland_knn2.fit(X_train, y_train)\n",
        "print(\"Training set accuracy2: {:.2f}\".format(cleveland_knn2.score(X_train, y_train)), \n",
        "      \"Test set accuracy2: {:.2f}\".format(cleveland_knn2.score(X_test, y_test)))\n",
        "cleveland_knn3 = KNeighborsClassifier(n_neighbors=3)\n",
        "cleveland_knn3.fit(X_train, y_train)\n",
        "print(\"Training set accuracy3: {:.2f}\".format(cleveland_knn3.score(X_train, y_train)), \n",
        "      \"Test set accuracy3: {:.2f}\".format(cleveland_knn3.score(X_test, y_test)))\n",
        "cleveland_knn4 = KNeighborsClassifier(n_neighbors=4)\n",
        "cleveland_knn4.fit(X_train, y_train)\n",
        "print(\"Training set accuracy4: {:.2f}\".format(cleveland_knn4.score(X_train, y_train)), \n",
        "      \"Test set accuracy4: {:.2f}\".format(cleveland_knn4.score(X_test, y_test)))\n",
        "cleveland_knn5 = KNeighborsClassifier(n_neighbors=5)\n",
        "cleveland_knn5.fit(X_train, y_train)\n",
        "print(\"Training set accuracy5: {:.2f}\".format(cleveland_knn5.score(X_train, y_train)), \n",
        "      \"Test set accuracy5: {:.2f}\".format(cleveland_knn5.score(X_test, y_test)))\n",
        "cleveland_knn6 = KNeighborsClassifier(n_neighbors=6)\n",
        "cleveland_knn6.fit(X_train, y_train)\n",
        "print(\"Training set accuracy6: {:.2f}\".format(cleveland_knn6.score(X_train, y_train)), \n",
        "      \"Test set accuracy6: {:.2f}\".format(cleveland_knn6.score(X_test, y_test)))\n",
        "cleveland_knn7 = KNeighborsClassifier(n_neighbors=7)\n",
        "cleveland_knn7.fit(X_train, y_train)\n",
        "print(\"Training set accuracy7: {:.2f}\".format(cleveland_knn7.score(X_train, y_train)), \n",
        "      \"Test set accuracy7: {:.2f}\".format(cleveland_knn7.score(X_test, y_test)))\n",
        "cleveland_knn8 = KNeighborsClassifier(n_neighbors=8)\n",
        "cleveland_knn8.fit(X_train, y_train)\n",
        "print(\"Training set accuracy8: {:.2f}\".format(cleveland_knn8.score(X_train, y_train)), \n",
        "      \"Test set accuracy8: {:.2f}\".format(cleveland_knn8.score(X_test, y_test)))\n",
        "cleveland_knn9 = KNeighborsClassifier(n_neighbors=9)\n",
        "cleveland_knn9.fit(X_train, y_train)\n",
        "print(\"Training set accuracy9: {:.2f}\".format(cleveland_knn9.score(X_train, y_train)), \n",
        "      \"Test set accuracy9: {:.2f}\".format(cleveland_knn9.score(X_test, y_test)))\n",
        "cleveland_knn10 = KNeighborsClassifier(n_neighbors=10)\n",
        "cleveland_knn10.fit(X_train, y_train)\n",
        "print(\"Training set accuracy10: {:.2f}\".format(cleveland_knn10.score(X_train, y_train)), \n",
        "      \"Test set accuracy10: {:.2f}\".format(cleveland_knn10.score(X_test, y_test)))"
      ]
    },
    {
      "cell_type": "code",
      "source": [
        "#6.3 Plot a single plot with 2 lines: 1 corresponding to training accuracy, the other corresponding to testing accuracy (the x-axis should be k, the y-axis should be percentage).\n",
        "import numpy as np\n",
        "x = [1, 2, 3, 4, 5, 6, 7, 8, 9, 10]\n",
        "y = np.array([[cleveland_knn1.score(X_train, y_train), cleveland_knn1.score(X_test, y_test)], \n",
        "              [cleveland_knn2.score(X_train, y_train), cleveland_knn2.score(X_test, y_test)], \n",
        "              [cleveland_knn3.score(X_train, y_train), cleveland_knn3.score(X_test, y_test)], \n",
        "              [cleveland_knn4.score(X_train, y_train), cleveland_knn4.score(X_test, y_test)],\n",
        "              [cleveland_knn5.score(X_train, y_train), cleveland_knn5.score(X_test, y_test)], \n",
        "              [cleveland_knn6.score(X_train, y_train), cleveland_knn6.score(X_test, y_test)],\n",
        "              [cleveland_knn7.score(X_train, y_train), cleveland_knn7.score(X_test, y_test)], \n",
        "              [cleveland_knn8.score(X_train, y_train), cleveland_knn8.score(X_test, y_test)],\n",
        "              [cleveland_knn9.score(X_train, y_train), cleveland_knn9.score(X_test, y_test)], \n",
        "              [cleveland_knn10.score(X_train, y_train), cleveland_knn10.score(X_test, y_test)]])\n",
        "\n",
        "plt.plot(x, y)"
      ],
      "metadata": {
        "colab": {
          "base_uri": "https://localhost:8080/",
          "height": 305
        },
        "id": "NzA0OUzS8LAR",
        "outputId": "535413d8-b19b-4d77-b4c2-85307ae80dc7"
      },
      "execution_count": 116,
      "outputs": [
        {
          "output_type": "execute_result",
          "data": {
            "text/plain": [
              "[<matplotlib.lines.Line2D at 0x7f53ebc42350>,\n",
              " <matplotlib.lines.Line2D at 0x7f53ebc42750>]"
            ]
          },
          "metadata": {},
          "execution_count": 116
        },
        {
          "output_type": "display_data",
          "data": {
            "image/png": "[encoded data removed]",
            "text/plain": [
              "<Figure size 432x288 with 1 Axes>"
            ]
          },
          "metadata": {}
        }
      ]
    },
    {
      "cell_type": "markdown",
      "metadata": {
        "id": "Bj6OPTUYuY6h"
      },
      "source": [
        "### Exercise 7 (20 points)\n",
        "\n",
        "- 7.1 Load the dataset again (so that the variables are numeric, not categorical). Divide the data into training and testing data (`random_state=430`).\n",
        "- 7.2 Fit a Decision Tree Regressor to the training data with max depth of 5.\n",
        "- 7.3 Compute the training and testing accuracy. \n",
        "- 7.4 Visualize the tree model.\n",
        "- 7.5 Plot a graph of the feature importance in the tree model."
      ]
    },
    {
      "cell_type": "code",
      "execution_count": 29,
      "metadata": {
        "colab": {
          "base_uri": "https://localhost:8080/"
        },
        "id": "veZfwvqUuY6i",
        "outputId": "96cc95d3-0fbf-4c82-a93a-5edc2fcdcf19"
      },
      "outputs": [
        {
          "output_type": "stream",
          "name": "stdout",
          "text": [
            "Training set accuracy: 0.992\n",
            "Test set accuracy: 0.953\n"
          ]
        }
      ],
      "source": [
        "# your code\n",
        "import pandas as pd\n",
        "from sklearn.model_selection import train_test_split\n",
        "#7.1 Load the dataset again (so that the variables are numeric, not categorical). Divide the data into training and testing data \n",
        "BCW = pd.read_csv('https://archive.ics.uci.edu/ml/machine-learning-databases/breast-cancer-wisconsin/breast-cancer-wisconsin.data', names = ['id number','Clump Thickness',\n",
        "'Uniformity of Cell Size',\n",
        "'Uniformity of Cell Shape',\n",
        "'Marginal Adhesion',\n",
        "'Single Epithelial Cell Size',\n",
        "'Bare Nuclei',\n",
        "'Bland Chromatin',\n",
        "'Normal Nucleoli',\n",
        "'Mitoses',\n",
        "'Class'], dtype = {'Clump Thickness':'float64','Uniformity of Cell Size':'float64','Uniformity of Cell Shape':'float64',\n",
        "                   'Marginal Adhesion':'float64','Single Epithelial Cell Size':'float64','Bare Nuclei':'float64','Bland Chromatin':'float64',\n",
        "                   'Normal Nucleoli':'float64','Mitoses':'float64'},na_values = '?')\n",
        "BCW.set_index(['id number'],inplace=True)\n",
        "BCW_cleaned = BCW.dropna()\n",
        "X_train, X_test, y_train, y_test = train_test_split(\n",
        "                                        BCW_cleaned.loc[:, BCW_cleaned.columns != 'Class'], BCW_cleaned['Class'],\n",
        "                                        random_state=430)\n",
        "#7.2 Fit a Decision Tree Regressor to the training data with max depth of 5.\n",
        "from sklearn.tree import DecisionTreeClassifier\n",
        "tree = DecisionTreeClassifier(max_depth=5, random_state=0)\n",
        "tree.fit(X_train, y_train)\n",
        "#7.3 Compute the training and testing accuracy. vv\n",
        "print(\"Training set accuracy: {:.3f}\".format(\n",
        "    tree.score(X_train, y_train)))\n",
        "print(\"Test set accuracy: {:.3f}\".format(\n",
        "    tree.score(X_test, y_test)))"
      ]
    },
    {
      "cell_type": "code",
      "source": [
        "from sklearn.tree import export_graphviz\n",
        "export_graphviz(tree, out_file=\"tree.dot\", class_names=[\"benign\", \"malignant\"], \n",
        "                feature_names=BCW_cleaned.columns.delete(9), impurity=False, filled=True)\n",
        "import graphviz\n",
        "with open(\"tree.dot\") as f:\n",
        "    dot_graph = f.read()\n",
        "display(graphviz.Source(dot_graph))"
      ],
      "metadata": {
        "colab": {
          "base_uri": "https://localhost:8080/",
          "height": 815
        },
        "id": "IddwVysQ_pNy",
        "outputId": "95386094-ba01-47ff-8788-026af86c23a0"
      },
      "execution_count": 34,
      "outputs": [
        {
          "output_type": "display_data",
          "data": {
            "text/plain": [
              "<graphviz.files.Source at 0x7f84cdb9c290>"
            ],
            "image/svg+xml": "<?xml version=\"1.0\" encoding=\"UTF-8\" standalone=\"no\"?>\n<!DOCTYPE svg PUBLIC \"-//W3C//DTD SVG 1.1//EN\"\n \"http://www.w3.org/Graphics/SVG/1.1/DTD/svg11.dtd\">\n<!-- Generated by graphviz version 2.40.1 (20161225.0304)\n -->\n<!-- Title: Tree Pages: 1 -->\n<svg width=\"2056pt\" height=\"581pt\"\n viewBox=\"0.00 0.00 2056.00 581.00\" xmlns=\"http://www.w3.org/2000/svg\" xmlns:xlink=\"http://www.w3.org/1999/xlink\">\n<g id=\"graph0\" class=\"graph\" transform=\"scale(1 1) rotate(0) translate(4 577)\">\n<title>Tree</title>\n<polygon fill=\"#ffffff\" stroke=\"transparent\" points=\"-4,4 -4,-577 2052,-577 2052,4 -4,4\"/>\n<!-- 0 -->\n<g id=\"node1\" class=\"node\">\n<title>0</title>\n<polygon fill=\"#f3c7a7\" stroke=\"#000000\" points=\"1149,-573 947,-573 947,-505 1149,-505 1149,-573\"/>\n<text text-anchor=\"middle\" x=\"1048\" y=\"-557.8\" font-family=\"Helvetica,sans-Serif\" font-size=\"14.00\" fill=\"#000000\">Uniformity of Cell Size &lt;= 3.5</text>\n<text text-anchor=\"middle\" x=\"1048\" y=\"-542.8\" font-family=\"Helvetica,sans-Serif\" font-size=\"14.00\" fill=\"#000000\">samples = 512</text>\n<text text-anchor=\"middle\" x=\"1048\" y=\"-527.8\" font-family=\"Helvetica,sans-Serif\" font-size=\"14.00\" fill=\"#000000\">value = [329, 183]</text>\n<text text-anchor=\"middle\" x=\"1048\" y=\"-512.8\" font-family=\"Helvetica,sans-Serif\" font-size=\"14.00\" fill=\"#000000\">class = benign</text>\n</g>\n<!-- 1 -->\n<g id=\"node2\" class=\"node\">\n<title>1</title>\n<polygon fill=\"#e78c4a\" stroke=\"#000000\" points=\"927.5,-469 754.5,-469 754.5,-401 927.5,-401 927.5,-469\"/>\n<text text-anchor=\"middle\" x=\"841\" y=\"-453.8\" font-family=\"Helvetica,sans-Serif\" font-size=\"14.00\" fill=\"#000000\">Clump Thickness &lt;= 6.5</text>\n<text text-anchor=\"middle\" x=\"841\" y=\"-438.8\" font-family=\"Helvetica,sans-Serif\" font-size=\"14.00\" fill=\"#000000\">samples = 348</text>\n<text text-anchor=\"middle\" x=\"841\" y=\"-423.8\" font-family=\"Helvetica,sans-Serif\" font-size=\"14.00\" fill=\"#000000\">value = [321, 27]</text>\n<text text-anchor=\"middle\" x=\"841\" y=\"-408.8\" font-family=\"Helvetica,sans-Serif\" font-size=\"14.00\" fill=\"#000000\">class = benign</text>\n</g>\n<!-- 0&#45;&gt;1 -->\n<g id=\"edge1\" class=\"edge\">\n<title>0&#45;&gt;1</title>\n<path fill=\"none\" stroke=\"#000000\" d=\"M980.2205,-504.9465C960.2946,-494.9354 938.3554,-483.9129 917.9027,-473.6371\"/>\n<polygon fill=\"#000000\" stroke=\"#000000\" points=\"919.4388,-470.492 908.9318,-469.13 916.2961,-476.7469 919.4388,-470.492\"/>\n<text text-anchor=\"middle\" x=\"916.7917\" y=\"-489.1623\" font-family=\"Helvetica,sans-Serif\" font-size=\"14.00\" fill=\"#000000\">True</text>\n</g>\n<!-- 18 -->\n<g id=\"node19\" class=\"node\">\n<title>18</title>\n<polygon fill=\"#43a2e6\" stroke=\"#000000\" points=\"1377,-469 1175,-469 1175,-401 1377,-401 1377,-469\"/>\n<text text-anchor=\"middle\" x=\"1276\" y=\"-453.8\" font-family=\"Helvetica,sans-Serif\" font-size=\"14.00\" fill=\"#000000\">Uniformity of Cell Size &lt;= 4.5</text>\n<text text-anchor=\"middle\" x=\"1276\" y=\"-438.8\" font-family=\"Helvetica,sans-Serif\" font-size=\"14.00\" fill=\"#000000\">samples = 164</text>\n<text text-anchor=\"middle\" x=\"1276\" y=\"-423.8\" font-family=\"Helvetica,sans-Serif\" font-size=\"14.00\" fill=\"#000000\">value = [8, 156]</text>\n<text text-anchor=\"middle\" x=\"1276\" y=\"-408.8\" font-family=\"Helvetica,sans-Serif\" font-size=\"14.00\" fill=\"#000000\">class = malignant</text>\n</g>\n<!-- 0&#45;&gt;18 -->\n<g id=\"edge18\" class=\"edge\">\n<title>0&#45;&gt;18</title>\n<path fill=\"none\" stroke=\"#000000\" d=\"M1122.6557,-504.9465C1144.7999,-494.8457 1169.2016,-483.7151 1191.9013,-473.3608\"/>\n<polygon fill=\"#000000\" stroke=\"#000000\" points=\"1193.5309,-476.4645 1201.1765,-469.13 1190.6258,-470.0957 1193.5309,-476.4645\"/>\n<text text-anchor=\"middle\" x=\"1192.4294\" y=\"-488.8498\" font-family=\"Helvetica,sans-Serif\" font-size=\"14.00\" fill=\"#000000\">False</text>\n</g>\n<!-- 2 -->\n<g id=\"node3\" class=\"node\">\n<title>2</title>\n<polygon fill=\"#e68540\" stroke=\"#000000\" points=\"567,-365 431,-365 431,-297 567,-297 567,-365\"/>\n<text text-anchor=\"middle\" x=\"499\" y=\"-349.8\" font-family=\"Helvetica,sans-Serif\" font-size=\"14.00\" fill=\"#000000\">Bare Nuclei &lt;= 2.5</text>\n<text text-anchor=\"middle\" x=\"499\" y=\"-334.8\" font-family=\"Helvetica,sans-Serif\" font-size=\"14.00\" fill=\"#000000\">samples = 330</text>\n<text text-anchor=\"middle\" x=\"499\" y=\"-319.8\" font-family=\"Helvetica,sans-Serif\" font-size=\"14.00\" fill=\"#000000\">value = [319, 11]</text>\n<text text-anchor=\"middle\" x=\"499\" y=\"-304.8\" font-family=\"Helvetica,sans-Serif\" font-size=\"14.00\" fill=\"#000000\">class = benign</text>\n</g>\n<!-- 1&#45;&gt;2 -->\n<g id=\"edge2\" class=\"edge\">\n<title>1&#45;&gt;2</title>\n<path fill=\"none\" stroke=\"#000000\" d=\"M754.2568,-408.622C699.5786,-391.9947 629.5775,-370.7078 576.7154,-354.6327\"/>\n<polygon fill=\"#000000\" stroke=\"#000000\" points=\"577.6376,-351.255 567.0519,-351.6941 575.601,-357.9522 577.6376,-351.255\"/>\n</g>\n<!-- 13 -->\n<g id=\"node14\" class=\"node\">\n<title>13</title>\n<polygon fill=\"#52a9e8\" stroke=\"#000000\" points=\"909,-365 773,-365 773,-297 909,-297 909,-365\"/>\n<text text-anchor=\"middle\" x=\"841\" y=\"-349.8\" font-family=\"Helvetica,sans-Serif\" font-size=\"14.00\" fill=\"#000000\">Bare Nuclei &lt;= 2.5</text>\n<text text-anchor=\"middle\" x=\"841\" y=\"-334.8\" font-family=\"Helvetica,sans-Serif\" font-size=\"14.00\" fill=\"#000000\">samples = 18</text>\n<text text-anchor=\"middle\" x=\"841\" y=\"-319.8\" font-family=\"Helvetica,sans-Serif\" font-size=\"14.00\" fill=\"#000000\">value = [2, 16]</text>\n<text text-anchor=\"middle\" x=\"841\" y=\"-304.8\" font-family=\"Helvetica,sans-Serif\" font-size=\"14.00\" fill=\"#000000\">class = malignant</text>\n</g>\n<!-- 1&#45;&gt;13 -->\n<g id=\"edge13\" class=\"edge\">\n<title>1&#45;&gt;13</title>\n<path fill=\"none\" stroke=\"#000000\" d=\"M841,-400.9465C841,-392.776 841,-383.9318 841,-375.3697\"/>\n<polygon fill=\"#000000\" stroke=\"#000000\" points=\"844.5001,-375.13 841,-365.13 837.5001,-375.13 844.5001,-375.13\"/>\n</g>\n<!-- 3 -->\n<g id=\"node4\" class=\"node\">\n<title>3</title>\n<polygon fill=\"#e5813a\" stroke=\"#000000\" points=\"280.5,-261 117.5,-261 117.5,-193 280.5,-193 280.5,-261\"/>\n<text text-anchor=\"middle\" x=\"199\" y=\"-245.8\" font-family=\"Helvetica,sans-Serif\" font-size=\"14.00\" fill=\"#000000\">Normal Nucleoli &lt;= 8.5</text>\n<text text-anchor=\"middle\" x=\"199\" y=\"-230.8\" font-family=\"Helvetica,sans-Serif\" font-size=\"14.00\" fill=\"#000000\">samples = 299</text>\n<text text-anchor=\"middle\" x=\"199\" y=\"-215.8\" font-family=\"Helvetica,sans-Serif\" font-size=\"14.00\" fill=\"#000000\">value = [298, 1]</text>\n<text text-anchor=\"middle\" x=\"199\" y=\"-200.8\" font-family=\"Helvetica,sans-Serif\" font-size=\"14.00\" fill=\"#000000\">class = benign</text>\n</g>\n<!-- 2&#45;&gt;3 -->\n<g id=\"edge3\" class=\"edge\">\n<title>2&#45;&gt;3</title>\n<path fill=\"none\" stroke=\"#000000\" d=\"M430.9254,-307.4008C389.2852,-292.9655 335.4946,-274.3181 290.2015,-258.6165\"/>\n<polygon fill=\"#000000\" stroke=\"#000000\" points=\"291.2677,-255.2818 280.6729,-255.3133 288.9748,-261.8957 291.2677,-255.2818\"/>\n</g>\n<!-- 6 -->\n<g id=\"node7\" class=\"node\">\n<title>6</title>\n<polygon fill=\"#f1bd97\" stroke=\"#000000\" points=\"607,-261 391,-261 391,-193 607,-193 607,-261\"/>\n<text text-anchor=\"middle\" x=\"499\" y=\"-245.8\" font-family=\"Helvetica,sans-Serif\" font-size=\"14.00\" fill=\"#000000\">Uniformity of Cell Shape &lt;= 2.5</text>\n<text text-anchor=\"middle\" x=\"499\" y=\"-230.8\" font-family=\"Helvetica,sans-Serif\" font-size=\"14.00\" fill=\"#000000\">samples = 31</text>\n<text text-anchor=\"middle\" x=\"499\" y=\"-215.8\" font-family=\"Helvetica,sans-Serif\" font-size=\"14.00\" fill=\"#000000\">value = [21, 10]</text>\n<text text-anchor=\"middle\" x=\"499\" y=\"-200.8\" font-family=\"Helvetica,sans-Serif\" font-size=\"14.00\" fill=\"#000000\">class = benign</text>\n</g>\n<!-- 2&#45;&gt;6 -->\n<g id=\"edge6\" class=\"edge\">\n<title>2&#45;&gt;6</title>\n<path fill=\"none\" stroke=\"#000000\" d=\"M499,-296.9465C499,-288.776 499,-279.9318 499,-271.3697\"/>\n<polygon fill=\"#000000\" stroke=\"#000000\" points=\"502.5001,-271.13 499,-261.13 495.5001,-271.13 502.5001,-271.13\"/>\n</g>\n<!-- 4 -->\n<g id=\"node5\" class=\"node\">\n<title>4</title>\n<polygon fill=\"#e58139\" stroke=\"#000000\" points=\"116,-149.5 0,-149.5 0,-96.5 116,-96.5 116,-149.5\"/>\n<text text-anchor=\"middle\" x=\"58\" y=\"-134.3\" font-family=\"Helvetica,sans-Serif\" font-size=\"14.00\" fill=\"#000000\">samples = 298</text>\n<text text-anchor=\"middle\" x=\"58\" y=\"-119.3\" font-family=\"Helvetica,sans-Serif\" font-size=\"14.00\" fill=\"#000000\">value = [298, 0]</text>\n<text text-anchor=\"middle\" x=\"58\" y=\"-104.3\" font-family=\"Helvetica,sans-Serif\" font-size=\"14.00\" fill=\"#000000\">class = benign</text>\n</g>\n<!-- 3&#45;&gt;4 -->\n<g id=\"edge4\" class=\"edge\">\n<title>3&#45;&gt;4</title>\n<path fill=\"none\" stroke=\"#000000\" d=\"M152.8313,-192.9465C136.5536,-180.9403 118.3035,-167.4791 102.193,-155.5962\"/>\n<polygon fill=\"#000000\" stroke=\"#000000\" points=\"104.1103,-152.6614 93.985,-149.5422 99.9552,-158.2948 104.1103,-152.6614\"/>\n</g>\n<!-- 5 -->\n<g id=\"node6\" class=\"node\">\n<title>5</title>\n<polygon fill=\"#399de5\" stroke=\"#000000\" points=\"263.5,-149.5 134.5,-149.5 134.5,-96.5 263.5,-96.5 263.5,-149.5\"/>\n<text text-anchor=\"middle\" x=\"199\" y=\"-134.3\" font-family=\"Helvetica,sans-Serif\" font-size=\"14.00\" fill=\"#000000\">samples = 1</text>\n<text text-anchor=\"middle\" x=\"199\" y=\"-119.3\" font-family=\"Helvetica,sans-Serif\" font-size=\"14.00\" fill=\"#000000\">value = [0, 1]</text>\n<text text-anchor=\"middle\" x=\"199\" y=\"-104.3\" font-family=\"Helvetica,sans-Serif\" font-size=\"14.00\" fill=\"#000000\">class = malignant</text>\n</g>\n<!-- 3&#45;&gt;5 -->\n<g id=\"edge5\" class=\"edge\">\n<title>3&#45;&gt;5</title>\n<path fill=\"none\" stroke=\"#000000\" d=\"M199,-192.9465C199,-182.2621 199,-170.4254 199,-159.5742\"/>\n<polygon fill=\"#000000\" stroke=\"#000000\" points=\"202.5001,-159.5421 199,-149.5422 195.5001,-159.5422 202.5001,-159.5421\"/>\n</g>\n<!-- 7 -->\n<g id=\"node8\" class=\"node\">\n<title>7</title>\n<polygon fill=\"#e99558\" stroke=\"#000000\" points=\"454.5,-157 281.5,-157 281.5,-89 454.5,-89 454.5,-157\"/>\n<text text-anchor=\"middle\" x=\"368\" y=\"-141.8\" font-family=\"Helvetica,sans-Serif\" font-size=\"14.00\" fill=\"#000000\">Clump Thickness &lt;= 3.5</text>\n<text text-anchor=\"middle\" x=\"368\" y=\"-126.8\" font-family=\"Helvetica,sans-Serif\" font-size=\"14.00\" fill=\"#000000\">samples = 22</text>\n<text text-anchor=\"middle\" x=\"368\" y=\"-111.8\" font-family=\"Helvetica,sans-Serif\" font-size=\"14.00\" fill=\"#000000\">value = [19, 3]</text>\n<text text-anchor=\"middle\" x=\"368\" y=\"-96.8\" font-family=\"Helvetica,sans-Serif\" font-size=\"14.00\" fill=\"#000000\">class = benign</text>\n</g>\n<!-- 6&#45;&gt;7 -->\n<g id=\"edge7\" class=\"edge\">\n<title>6&#45;&gt;7</title>\n<path fill=\"none\" stroke=\"#000000\" d=\"M456.1057,-192.9465C444.2307,-183.519 431.2259,-173.1946 418.9407,-163.4415\"/>\n<polygon fill=\"#000000\" stroke=\"#000000\" points=\"420.9989,-160.6066 410.9907,-157.13 416.6464,-166.089 420.9989,-160.6066\"/>\n</g>\n<!-- 10 -->\n<g id=\"node11\" class=\"node\">\n<title>10</title>\n<polygon fill=\"#72b9ec\" stroke=\"#000000\" points=\"645.5,-157 472.5,-157 472.5,-89 645.5,-89 645.5,-157\"/>\n<text text-anchor=\"middle\" x=\"559\" y=\"-141.8\" font-family=\"Helvetica,sans-Serif\" font-size=\"14.00\" fill=\"#000000\">Clump Thickness &lt;= 5.5</text>\n<text text-anchor=\"middle\" x=\"559\" y=\"-126.8\" font-family=\"Helvetica,sans-Serif\" font-size=\"14.00\" fill=\"#000000\">samples = 9</text>\n<text text-anchor=\"middle\" x=\"559\" y=\"-111.8\" font-family=\"Helvetica,sans-Serif\" font-size=\"14.00\" fill=\"#000000\">value = [2, 7]</text>\n<text text-anchor=\"middle\" x=\"559\" y=\"-96.8\" font-family=\"Helvetica,sans-Serif\" font-size=\"14.00\" fill=\"#000000\">class = malignant</text>\n</g>\n<!-- 6&#45;&gt;10 -->\n<g id=\"edge10\" class=\"edge\">\n<title>6&#45;&gt;10</title>\n<path fill=\"none\" stroke=\"#000000\" d=\"M518.6462,-192.9465C523.619,-184.3271 529.0243,-174.9579 534.2148,-165.9611\"/>\n<polygon fill=\"#000000\" stroke=\"#000000\" points=\"537.344,-167.5409 539.3096,-157.13 531.2807,-164.0428 537.344,-167.5409\"/>\n</g>\n<!-- 8 -->\n<g id=\"node9\" class=\"node\">\n<title>8</title>\n<polygon fill=\"#e58139\" stroke=\"#000000\" points=\"308,-53 198,-53 198,0 308,0 308,-53\"/>\n<text text-anchor=\"middle\" x=\"253\" y=\"-37.8\" font-family=\"Helvetica,sans-Serif\" font-size=\"14.00\" fill=\"#000000\">samples = 16</text>\n<text text-anchor=\"middle\" x=\"253\" y=\"-22.8\" font-family=\"Helvetica,sans-Serif\" font-size=\"14.00\" fill=\"#000000\">value = [16, 0]</text>\n<text text-anchor=\"middle\" x=\"253\" y=\"-7.8\" font-family=\"Helvetica,sans-Serif\" font-size=\"14.00\" fill=\"#000000\">class = benign</text>\n</g>\n<!-- 7&#45;&gt;8 -->\n<g id=\"edge8\" class=\"edge\">\n<title>7&#45;&gt;8</title>\n<path fill=\"none\" stroke=\"#000000\" d=\"M327.4553,-88.9777C316.2155,-79.546 304.0264,-69.3178 292.8279,-59.9208\"/>\n<polygon fill=\"#000000\" stroke=\"#000000\" points=\"294.7866,-56.9954 284.8764,-53.2485 290.287,-62.3576 294.7866,-56.9954\"/>\n</g>\n<!-- 9 -->\n<g id=\"node10\" class=\"node\">\n<title>9</title>\n<polygon fill=\"#ffffff\" stroke=\"#000000\" points=\"436,-53 326,-53 326,0 436,0 436,-53\"/>\n<text text-anchor=\"middle\" x=\"381\" y=\"-37.8\" font-family=\"Helvetica,sans-Serif\" font-size=\"14.00\" fill=\"#000000\">samples = 6</text>\n<text text-anchor=\"middle\" x=\"381\" y=\"-22.8\" font-family=\"Helvetica,sans-Serif\" font-size=\"14.00\" fill=\"#000000\">value = [3, 3]</text>\n<text text-anchor=\"middle\" x=\"381\" y=\"-7.8\" font-family=\"Helvetica,sans-Serif\" font-size=\"14.00\" fill=\"#000000\">class = benign</text>\n</g>\n<!-- 7&#45;&gt;9 -->\n<g id=\"edge9\" class=\"edge\">\n<title>7&#45;&gt;9</title>\n<path fill=\"none\" stroke=\"#000000\" d=\"M372.5833,-88.9777C373.7059,-80.6449 374.9122,-71.6903 376.051,-63.2364\"/>\n<polygon fill=\"#000000\" stroke=\"#000000\" points=\"379.5301,-63.6263 377.3966,-53.2485 372.5927,-62.6916 379.5301,-63.6263\"/>\n</g>\n<!-- 11 -->\n<g id=\"node12\" class=\"node\">\n<title>11</title>\n<polygon fill=\"#55abe9\" stroke=\"#000000\" points=\"597.5,-53 468.5,-53 468.5,0 597.5,0 597.5,-53\"/>\n<text text-anchor=\"middle\" x=\"533\" y=\"-37.8\" font-family=\"Helvetica,sans-Serif\" font-size=\"14.00\" fill=\"#000000\">samples = 8</text>\n<text text-anchor=\"middle\" x=\"533\" y=\"-22.8\" font-family=\"Helvetica,sans-Serif\" font-size=\"14.00\" fill=\"#000000\">value = [1, 7]</text>\n<text text-anchor=\"middle\" x=\"533\" y=\"-7.8\" font-family=\"Helvetica,sans-Serif\" font-size=\"14.00\" fill=\"#000000\">class = malignant</text>\n</g>\n<!-- 10&#45;&gt;11 -->\n<g id=\"edge11\" class=\"edge\">\n<title>10&#45;&gt;11</title>\n<path fill=\"none\" stroke=\"#000000\" d=\"M549.8334,-88.9777C547.5636,-80.5533 545.1226,-71.4934 542.8229,-62.9579\"/>\n<polygon fill=\"#000000\" stroke=\"#000000\" points=\"546.1879,-61.9936 540.2068,-53.2485 539.429,-63.8147 546.1879,-61.9936\"/>\n</g>\n<!-- 12 -->\n<g id=\"node13\" class=\"node\">\n<title>12</title>\n<polygon fill=\"#e58139\" stroke=\"#000000\" points=\"726,-53 616,-53 616,0 726,0 726,-53\"/>\n<text text-anchor=\"middle\" x=\"671\" y=\"-37.8\" font-family=\"Helvetica,sans-Serif\" font-size=\"14.00\" fill=\"#000000\">samples = 1</text>\n<text text-anchor=\"middle\" x=\"671\" y=\"-22.8\" font-family=\"Helvetica,sans-Serif\" font-size=\"14.00\" fill=\"#000000\">value = [1, 0]</text>\n<text text-anchor=\"middle\" x=\"671\" y=\"-7.8\" font-family=\"Helvetica,sans-Serif\" font-size=\"14.00\" fill=\"#000000\">class = benign</text>\n</g>\n<!-- 10&#45;&gt;12 -->\n<g id=\"edge12\" class=\"edge\">\n<title>10&#45;&gt;12</title>\n<path fill=\"none\" stroke=\"#000000\" d=\"M598.487,-88.9777C609.4336,-79.546 621.3047,-69.3178 632.2111,-59.9208\"/>\n<polygon fill=\"#000000\" stroke=\"#000000\" points=\"634.6639,-62.4274 639.9551,-53.2485 630.0947,-57.1244 634.6639,-62.4274\"/>\n</g>\n<!-- 14 -->\n<g id=\"node15\" class=\"node\">\n<title>14</title>\n<polygon fill=\"#f2c09c\" stroke=\"#000000\" points=\"840.5,-261 677.5,-261 677.5,-193 840.5,-193 840.5,-261\"/>\n<text text-anchor=\"middle\" x=\"759\" y=\"-245.8\" font-family=\"Helvetica,sans-Serif\" font-size=\"14.00\" fill=\"#000000\">Normal Nucleoli &lt;= 3.0</text>\n<text text-anchor=\"middle\" x=\"759\" y=\"-230.8\" font-family=\"Helvetica,sans-Serif\" font-size=\"14.00\" fill=\"#000000\">samples = 3</text>\n<text text-anchor=\"middle\" x=\"759\" y=\"-215.8\" font-family=\"Helvetica,sans-Serif\" font-size=\"14.00\" fill=\"#000000\">value = [2, 1]</text>\n<text text-anchor=\"middle\" x=\"759\" y=\"-200.8\" font-family=\"Helvetica,sans-Serif\" font-size=\"14.00\" fill=\"#000000\">class = benign</text>\n</g>\n<!-- 13&#45;&gt;14 -->\n<g id=\"edge14\" class=\"edge\">\n<title>13&#45;&gt;14</title>\n<path fill=\"none\" stroke=\"#000000\" d=\"M814.1501,-296.9465C807.1417,-288.0578 799.5045,-278.3716 792.209,-269.1188\"/>\n<polygon fill=\"#000000\" stroke=\"#000000\" points=\"794.8502,-266.8157 785.9102,-261.13 789.3533,-271.1498 794.8502,-266.8157\"/>\n</g>\n<!-- 17 -->\n<g id=\"node18\" class=\"node\">\n<title>17</title>\n<polygon fill=\"#399de5\" stroke=\"#000000\" points=\"987.5,-253.5 858.5,-253.5 858.5,-200.5 987.5,-200.5 987.5,-253.5\"/>\n<text text-anchor=\"middle\" x=\"923\" y=\"-238.3\" font-family=\"Helvetica,sans-Serif\" font-size=\"14.00\" fill=\"#000000\">samples = 15</text>\n<text text-anchor=\"middle\" x=\"923\" y=\"-223.3\" font-family=\"Helvetica,sans-Serif\" font-size=\"14.00\" fill=\"#000000\">value = [0, 15]</text>\n<text text-anchor=\"middle\" x=\"923\" y=\"-208.3\" font-family=\"Helvetica,sans-Serif\" font-size=\"14.00\" fill=\"#000000\">class = malignant</text>\n</g>\n<!-- 13&#45;&gt;17 -->\n<g id=\"edge17\" class=\"edge\">\n<title>13&#45;&gt;17</title>\n<path fill=\"none\" stroke=\"#000000\" d=\"M867.8499,-296.9465C876.7952,-285.6012 886.7649,-272.9567 895.741,-261.5724\"/>\n<polygon fill=\"#000000\" stroke=\"#000000\" points=\"898.6294,-263.5619 902.0725,-253.5422 893.1325,-259.2278 898.6294,-263.5619\"/>\n</g>\n<!-- 15 -->\n<g id=\"node16\" class=\"node\">\n<title>15</title>\n<polygon fill=\"#e58139\" stroke=\"#000000\" points=\"774,-149.5 664,-149.5 664,-96.5 774,-96.5 774,-149.5\"/>\n<text text-anchor=\"middle\" x=\"719\" y=\"-134.3\" font-family=\"Helvetica,sans-Serif\" font-size=\"14.00\" fill=\"#000000\">samples = 2</text>\n<text text-anchor=\"middle\" x=\"719\" y=\"-119.3\" font-family=\"Helvetica,sans-Serif\" font-size=\"14.00\" fill=\"#000000\">value = [2, 0]</text>\n<text text-anchor=\"middle\" x=\"719\" y=\"-104.3\" font-family=\"Helvetica,sans-Serif\" font-size=\"14.00\" fill=\"#000000\">class = benign</text>\n</g>\n<!-- 14&#45;&gt;15 -->\n<g id=\"edge15\" class=\"edge\">\n<title>14&#45;&gt;15</title>\n<path fill=\"none\" stroke=\"#000000\" d=\"M745.9025,-192.9465C741.7084,-182.0418 737.0526,-169.9368 732.8093,-158.9043\"/>\n<polygon fill=\"#000000\" stroke=\"#000000\" points=\"736.0651,-157.6192 729.2085,-149.5422 729.5317,-160.1321 736.0651,-157.6192\"/>\n</g>\n<!-- 16 -->\n<g id=\"node17\" class=\"node\">\n<title>16</title>\n<polygon fill=\"#399de5\" stroke=\"#000000\" points=\"921.5,-149.5 792.5,-149.5 792.5,-96.5 921.5,-96.5 921.5,-149.5\"/>\n<text text-anchor=\"middle\" x=\"857\" y=\"-134.3\" font-family=\"Helvetica,sans-Serif\" font-size=\"14.00\" fill=\"#000000\">samples = 1</text>\n<text text-anchor=\"middle\" x=\"857\" y=\"-119.3\" font-family=\"Helvetica,sans-Serif\" font-size=\"14.00\" fill=\"#000000\">value = [0, 1]</text>\n<text text-anchor=\"middle\" x=\"857\" y=\"-104.3\" font-family=\"Helvetica,sans-Serif\" font-size=\"14.00\" fill=\"#000000\">class = malignant</text>\n</g>\n<!-- 14&#45;&gt;16 -->\n<g id=\"edge16\" class=\"edge\">\n<title>14&#45;&gt;16</title>\n<path fill=\"none\" stroke=\"#000000\" d=\"M791.0889,-192.9465C801.9873,-181.3809 814.1578,-168.4652 825.0457,-156.9107\"/>\n<polygon fill=\"#000000\" stroke=\"#000000\" points=\"827.6783,-159.2204 831.9891,-149.5422 822.5838,-154.4198 827.6783,-159.2204\"/>\n</g>\n<!-- 19 -->\n<g id=\"node20\" class=\"node\">\n<title>19</title>\n<polygon fill=\"#7bbeee\" stroke=\"#000000\" points=\"1344,-365 1208,-365 1208,-297 1344,-297 1344,-365\"/>\n<text text-anchor=\"middle\" x=\"1276\" y=\"-349.8\" font-family=\"Helvetica,sans-Serif\" font-size=\"14.00\" fill=\"#000000\">Bare Nuclei &lt;= 6.0</text>\n<text text-anchor=\"middle\" x=\"1276\" y=\"-334.8\" font-family=\"Helvetica,sans-Serif\" font-size=\"14.00\" fill=\"#000000\">samples = 28</text>\n<text text-anchor=\"middle\" x=\"1276\" y=\"-319.8\" font-family=\"Helvetica,sans-Serif\" font-size=\"14.00\" fill=\"#000000\">value = [7, 21]</text>\n<text text-anchor=\"middle\" x=\"1276\" y=\"-304.8\" font-family=\"Helvetica,sans-Serif\" font-size=\"14.00\" fill=\"#000000\">class = malignant</text>\n</g>\n<!-- 18&#45;&gt;19 -->\n<g id=\"edge19\" class=\"edge\">\n<title>18&#45;&gt;19</title>\n<path fill=\"none\" stroke=\"#000000\" d=\"M1276,-400.9465C1276,-392.776 1276,-383.9318 1276,-375.3697\"/>\n<polygon fill=\"#000000\" stroke=\"#000000\" points=\"1279.5001,-375.13 1276,-365.13 1272.5001,-375.13 1279.5001,-375.13\"/>\n</g>\n<!-- 30 -->\n<g id=\"node31\" class=\"node\">\n<title>30</title>\n<polygon fill=\"#3a9ee5\" stroke=\"#000000\" points=\"1821.5,-365 1658.5,-365 1658.5,-297 1821.5,-297 1821.5,-365\"/>\n<text text-anchor=\"middle\" x=\"1740\" y=\"-349.8\" font-family=\"Helvetica,sans-Serif\" font-size=\"14.00\" fill=\"#000000\">Normal Nucleoli &lt;= 2.5</text>\n<text text-anchor=\"middle\" x=\"1740\" y=\"-334.8\" font-family=\"Helvetica,sans-Serif\" font-size=\"14.00\" fill=\"#000000\">samples = 136</text>\n<text text-anchor=\"middle\" x=\"1740\" y=\"-319.8\" font-family=\"Helvetica,sans-Serif\" font-size=\"14.00\" fill=\"#000000\">value = [1, 135]</text>\n<text text-anchor=\"middle\" x=\"1740\" y=\"-304.8\" font-family=\"Helvetica,sans-Serif\" font-size=\"14.00\" fill=\"#000000\">class = malignant</text>\n</g>\n<!-- 18&#45;&gt;30 -->\n<g id=\"edge30\" class=\"edge\">\n<title>18&#45;&gt;30</title>\n<path fill=\"none\" stroke=\"#000000\" d=\"M1377.2534,-412.3053C1458.0601,-394.1934 1570.2873,-369.039 1648.4334,-351.5235\"/>\n<polygon fill=\"#000000\" stroke=\"#000000\" points=\"1649.2758,-354.9217 1658.2682,-349.3192 1647.7448,-348.0911 1649.2758,-354.9217\"/>\n</g>\n<!-- 20 -->\n<g id=\"node21\" class=\"node\">\n<title>20</title>\n<polygon fill=\"#fbeade\" stroke=\"#000000\" points=\"1254.5,-261 1081.5,-261 1081.5,-193 1254.5,-193 1254.5,-261\"/>\n<text text-anchor=\"middle\" x=\"1168\" y=\"-245.8\" font-family=\"Helvetica,sans-Serif\" font-size=\"14.00\" fill=\"#000000\">Clump Thickness &lt;= 9.0</text>\n<text text-anchor=\"middle\" x=\"1168\" y=\"-230.8\" font-family=\"Helvetica,sans-Serif\" font-size=\"14.00\" fill=\"#000000\">samples = 11</text>\n<text text-anchor=\"middle\" x=\"1168\" y=\"-215.8\" font-family=\"Helvetica,sans-Serif\" font-size=\"14.00\" fill=\"#000000\">value = [6, 5]</text>\n<text text-anchor=\"middle\" x=\"1168\" y=\"-200.8\" font-family=\"Helvetica,sans-Serif\" font-size=\"14.00\" fill=\"#000000\">class = benign</text>\n</g>\n<!-- 19&#45;&gt;20 -->\n<g id=\"edge20\" class=\"edge\">\n<title>19&#45;&gt;20</title>\n<path fill=\"none\" stroke=\"#000000\" d=\"M1240.6368,-296.9465C1231.1264,-287.7884 1220.737,-277.7838 1210.8665,-268.2788\"/>\n<polygon fill=\"#000000\" stroke=\"#000000\" points=\"1213.0737,-265.5453 1203.4427,-261.13 1208.2182,-270.5876 1213.0737,-265.5453\"/>\n</g>\n<!-- 25 -->\n<g id=\"node26\" class=\"node\">\n<title>25</title>\n<polygon fill=\"#45a3e7\" stroke=\"#000000\" points=\"1497,-261 1273,-261 1273,-193 1497,-193 1497,-261\"/>\n<text text-anchor=\"middle\" x=\"1385\" y=\"-245.8\" font-family=\"Helvetica,sans-Serif\" font-size=\"14.00\" fill=\"#000000\">Single Epithelial Cell Size &lt;= 6.5</text>\n<text text-anchor=\"middle\" x=\"1385\" y=\"-230.8\" font-family=\"Helvetica,sans-Serif\" font-size=\"14.00\" fill=\"#000000\">samples = 17</text>\n<text text-anchor=\"middle\" x=\"1385\" y=\"-215.8\" font-family=\"Helvetica,sans-Serif\" font-size=\"14.00\" fill=\"#000000\">value = [1, 16]</text>\n<text text-anchor=\"middle\" x=\"1385\" y=\"-200.8\" font-family=\"Helvetica,sans-Serif\" font-size=\"14.00\" fill=\"#000000\">class = malignant</text>\n</g>\n<!-- 19&#45;&gt;25 -->\n<g id=\"edge25\" class=\"edge\">\n<title>19&#45;&gt;25</title>\n<path fill=\"none\" stroke=\"#000000\" d=\"M1311.6907,-296.9465C1321.2891,-287.7884 1331.7747,-277.7838 1341.7366,-268.2788\"/>\n<polygon fill=\"#000000\" stroke=\"#000000\" points=\"1344.4102,-270.5655 1349.2291,-261.13 1339.5779,-265.5009 1344.4102,-270.5655\"/>\n</g>\n<!-- 21 -->\n<g id=\"node22\" class=\"node\">\n<title>21</title>\n<polygon fill=\"#eeab7b\" stroke=\"#000000\" points=\"1120.5,-157 939.5,-157 939.5,-89 1120.5,-89 1120.5,-157\"/>\n<text text-anchor=\"middle\" x=\"1030\" y=\"-141.8\" font-family=\"Helvetica,sans-Serif\" font-size=\"14.00\" fill=\"#000000\">Marginal Adhesion &lt;= 4.5</text>\n<text text-anchor=\"middle\" x=\"1030\" y=\"-126.8\" font-family=\"Helvetica,sans-Serif\" font-size=\"14.00\" fill=\"#000000\">samples = 8</text>\n<text text-anchor=\"middle\" x=\"1030\" y=\"-111.8\" font-family=\"Helvetica,sans-Serif\" font-size=\"14.00\" fill=\"#000000\">value = [6, 2]</text>\n<text text-anchor=\"middle\" x=\"1030\" y=\"-96.8\" font-family=\"Helvetica,sans-Serif\" font-size=\"14.00\" fill=\"#000000\">class = benign</text>\n</g>\n<!-- 20&#45;&gt;21 -->\n<g id=\"edge21\" class=\"edge\">\n<title>20&#45;&gt;21</title>\n<path fill=\"none\" stroke=\"#000000\" d=\"M1122.8136,-192.9465C1110.185,-183.4293 1096.3433,-172.9978 1083.2932,-163.163\"/>\n<polygon fill=\"#000000\" stroke=\"#000000\" points=\"1085.3805,-160.3534 1075.2879,-157.13 1081.1675,-165.9437 1085.3805,-160.3534\"/>\n</g>\n<!-- 24 -->\n<g id=\"node25\" class=\"node\">\n<title>24</title>\n<polygon fill=\"#399de5\" stroke=\"#000000\" points=\"1267.5,-149.5 1138.5,-149.5 1138.5,-96.5 1267.5,-96.5 1267.5,-149.5\"/>\n<text text-anchor=\"middle\" x=\"1203\" y=\"-134.3\" font-family=\"Helvetica,sans-Serif\" font-size=\"14.00\" fill=\"#000000\">samples = 3</text>\n<text text-anchor=\"middle\" x=\"1203\" y=\"-119.3\" font-family=\"Helvetica,sans-Serif\" font-size=\"14.00\" fill=\"#000000\">value = [0, 3]</text>\n<text text-anchor=\"middle\" x=\"1203\" y=\"-104.3\" font-family=\"Helvetica,sans-Serif\" font-size=\"14.00\" fill=\"#000000\">class = malignant</text>\n</g>\n<!-- 20&#45;&gt;24 -->\n<g id=\"edge24\" class=\"edge\">\n<title>20&#45;&gt;24</title>\n<path fill=\"none\" stroke=\"#000000\" d=\"M1179.4603,-192.9465C1183.0931,-182.1519 1187.1217,-170.1813 1190.8042,-159.2389\"/>\n<polygon fill=\"#000000\" stroke=\"#000000\" points=\"1194.1951,-160.1362 1194.0675,-149.5422 1187.5607,-157.9035 1194.1951,-160.1362\"/>\n</g>\n<!-- 22 -->\n<g id=\"node23\" class=\"node\">\n<title>22</title>\n<polygon fill=\"#e58139\" stroke=\"#000000\" points=\"1016,-53 906,-53 906,0 1016,0 1016,-53\"/>\n<text text-anchor=\"middle\" x=\"961\" y=\"-37.8\" font-family=\"Helvetica,sans-Serif\" font-size=\"14.00\" fill=\"#000000\">samples = 6</text>\n<text text-anchor=\"middle\" x=\"961\" y=\"-22.8\" font-family=\"Helvetica,sans-Serif\" font-size=\"14.00\" fill=\"#000000\">value = [6, 0]</text>\n<text text-anchor=\"middle\" x=\"961\" y=\"-7.8\" font-family=\"Helvetica,sans-Serif\" font-size=\"14.00\" fill=\"#000000\">class = benign</text>\n</g>\n<!-- 21&#45;&gt;22 -->\n<g id=\"edge22\" class=\"edge\">\n<title>21&#45;&gt;22</title>\n<path fill=\"none\" stroke=\"#000000\" d=\"M1005.6732,-88.9777C999.3221,-80.0954 992.466,-70.5067 986.0768,-61.5711\"/>\n<polygon fill=\"#000000\" stroke=\"#000000\" points=\"988.7893,-59.3472 980.1259,-53.2485 983.0952,-63.4187 988.7893,-59.3472\"/>\n</g>\n<!-- 23 -->\n<g id=\"node24\" class=\"node\">\n<title>23</title>\n<polygon fill=\"#399de5\" stroke=\"#000000\" points=\"1163.5,-53 1034.5,-53 1034.5,0 1163.5,0 1163.5,-53\"/>\n<text text-anchor=\"middle\" x=\"1099\" y=\"-37.8\" font-family=\"Helvetica,sans-Serif\" font-size=\"14.00\" fill=\"#000000\">samples = 2</text>\n<text text-anchor=\"middle\" x=\"1099\" y=\"-22.8\" font-family=\"Helvetica,sans-Serif\" font-size=\"14.00\" fill=\"#000000\">value = [0, 2]</text>\n<text text-anchor=\"middle\" x=\"1099\" y=\"-7.8\" font-family=\"Helvetica,sans-Serif\" font-size=\"14.00\" fill=\"#000000\">class = malignant</text>\n</g>\n<!-- 21&#45;&gt;23 -->\n<g id=\"edge23\" class=\"edge\">\n<title>21&#45;&gt;23</title>\n<path fill=\"none\" stroke=\"#000000\" d=\"M1054.3268,-88.9777C1060.6779,-80.0954 1067.534,-70.5067 1073.9232,-61.5711\"/>\n<polygon fill=\"#000000\" stroke=\"#000000\" points=\"1076.9048,-63.4187 1079.8741,-53.2485 1071.2107,-59.3472 1076.9048,-63.4187\"/>\n</g>\n<!-- 26 -->\n<g id=\"node27\" class=\"node\">\n<title>26</title>\n<polygon fill=\"#399de5\" stroke=\"#000000\" points=\"1414.5,-149.5 1285.5,-149.5 1285.5,-96.5 1414.5,-96.5 1414.5,-149.5\"/>\n<text text-anchor=\"middle\" x=\"1350\" y=\"-134.3\" font-family=\"Helvetica,sans-Serif\" font-size=\"14.00\" fill=\"#000000\">samples = 15</text>\n<text text-anchor=\"middle\" x=\"1350\" y=\"-119.3\" font-family=\"Helvetica,sans-Serif\" font-size=\"14.00\" fill=\"#000000\">value = [0, 15]</text>\n<text text-anchor=\"middle\" x=\"1350\" y=\"-104.3\" font-family=\"Helvetica,sans-Serif\" font-size=\"14.00\" fill=\"#000000\">class = malignant</text>\n</g>\n<!-- 25&#45;&gt;26 -->\n<g id=\"edge26\" class=\"edge\">\n<title>25&#45;&gt;26</title>\n<path fill=\"none\" stroke=\"#000000\" d=\"M1373.5397,-192.9465C1369.9069,-182.1519 1365.8783,-170.1813 1362.1958,-159.2389\"/>\n<polygon fill=\"#000000\" stroke=\"#000000\" points=\"1365.4393,-157.9035 1358.9325,-149.5422 1358.8049,-160.1362 1365.4393,-157.9035\"/>\n</g>\n<!-- 27 -->\n<g id=\"node28\" class=\"node\">\n<title>27</title>\n<polygon fill=\"#ffffff\" stroke=\"#000000\" points=\"1657,-157 1433,-157 1433,-89 1657,-89 1657,-157\"/>\n<text text-anchor=\"middle\" x=\"1545\" y=\"-141.8\" font-family=\"Helvetica,sans-Serif\" font-size=\"14.00\" fill=\"#000000\">Single Epithelial Cell Size &lt;= 8.0</text>\n<text text-anchor=\"middle\" x=\"1545\" y=\"-126.8\" font-family=\"Helvetica,sans-Serif\" font-size=\"14.00\" fill=\"#000000\">samples = 2</text>\n<text text-anchor=\"middle\" x=\"1545\" y=\"-111.8\" font-family=\"Helvetica,sans-Serif\" font-size=\"14.00\" fill=\"#000000\">value = [1, 1]</text>\n<text text-anchor=\"middle\" x=\"1545\" y=\"-96.8\" font-family=\"Helvetica,sans-Serif\" font-size=\"14.00\" fill=\"#000000\">class = benign</text>\n</g>\n<!-- 25&#45;&gt;27 -->\n<g id=\"edge27\" class=\"edge\">\n<title>25&#45;&gt;27</title>\n<path fill=\"none\" stroke=\"#000000\" d=\"M1437.39,-192.9465C1452.3082,-183.2497 1468.6864,-172.6039 1484.0662,-162.6069\"/>\n<polygon fill=\"#000000\" stroke=\"#000000\" points=\"1486.0153,-165.5145 1492.4923,-157.13 1482.2004,-159.6454 1486.0153,-165.5145\"/>\n</g>\n<!-- 28 -->\n<g id=\"node29\" class=\"node\">\n<title>28</title>\n<polygon fill=\"#e58139\" stroke=\"#000000\" points=\"1531,-53 1421,-53 1421,0 1531,0 1531,-53\"/>\n<text text-anchor=\"middle\" x=\"1476\" y=\"-37.8\" font-family=\"Helvetica,sans-Serif\" font-size=\"14.00\" fill=\"#000000\">samples = 1</text>\n<text text-anchor=\"middle\" x=\"1476\" y=\"-22.8\" font-family=\"Helvetica,sans-Serif\" font-size=\"14.00\" fill=\"#000000\">value = [1, 0]</text>\n<text text-anchor=\"middle\" x=\"1476\" y=\"-7.8\" font-family=\"Helvetica,sans-Serif\" font-size=\"14.00\" fill=\"#000000\">class = benign</text>\n</g>\n<!-- 27&#45;&gt;28 -->\n<g id=\"edge28\" class=\"edge\">\n<title>27&#45;&gt;28</title>\n<path fill=\"none\" stroke=\"#000000\" d=\"M1520.6732,-88.9777C1514.3221,-80.0954 1507.466,-70.5067 1501.0768,-61.5711\"/>\n<polygon fill=\"#000000\" stroke=\"#000000\" points=\"1503.7893,-59.3472 1495.1259,-53.2485 1498.0952,-63.4187 1503.7893,-59.3472\"/>\n</g>\n<!-- 29 -->\n<g id=\"node30\" class=\"node\">\n<title>29</title>\n<polygon fill=\"#399de5\" stroke=\"#000000\" points=\"1678.5,-53 1549.5,-53 1549.5,0 1678.5,0 1678.5,-53\"/>\n<text text-anchor=\"middle\" x=\"1614\" y=\"-37.8\" font-family=\"Helvetica,sans-Serif\" font-size=\"14.00\" fill=\"#000000\">samples = 1</text>\n<text text-anchor=\"middle\" x=\"1614\" y=\"-22.8\" font-family=\"Helvetica,sans-Serif\" font-size=\"14.00\" fill=\"#000000\">value = [0, 1]</text>\n<text text-anchor=\"middle\" x=\"1614\" y=\"-7.8\" font-family=\"Helvetica,sans-Serif\" font-size=\"14.00\" fill=\"#000000\">class = malignant</text>\n</g>\n<!-- 27&#45;&gt;29 -->\n<g id=\"edge29\" class=\"edge\">\n<title>27&#45;&gt;29</title>\n<path fill=\"none\" stroke=\"#000000\" d=\"M1569.3268,-88.9777C1575.6779,-80.0954 1582.534,-70.5067 1588.9232,-61.5711\"/>\n<polygon fill=\"#000000\" stroke=\"#000000\" points=\"1591.9048,-63.4187 1594.8741,-53.2485 1586.2107,-59.3472 1591.9048,-63.4187\"/>\n</g>\n<!-- 31 -->\n<g id=\"node32\" class=\"node\">\n<title>31</title>\n<polygon fill=\"#42a1e6\" stroke=\"#000000\" points=\"1821.5,-261 1658.5,-261 1658.5,-193 1821.5,-193 1821.5,-261\"/>\n<text text-anchor=\"middle\" x=\"1740\" y=\"-245.8\" font-family=\"Helvetica,sans-Serif\" font-size=\"14.00\" fill=\"#000000\">Normal Nucleoli &lt;= 1.5</text>\n<text text-anchor=\"middle\" x=\"1740\" y=\"-230.8\" font-family=\"Helvetica,sans-Serif\" font-size=\"14.00\" fill=\"#000000\">samples = 23</text>\n<text text-anchor=\"middle\" x=\"1740\" y=\"-215.8\" font-family=\"Helvetica,sans-Serif\" font-size=\"14.00\" fill=\"#000000\">value = [1, 22]</text>\n<text text-anchor=\"middle\" x=\"1740\" y=\"-200.8\" font-family=\"Helvetica,sans-Serif\" font-size=\"14.00\" fill=\"#000000\">class = malignant</text>\n</g>\n<!-- 30&#45;&gt;31 -->\n<g id=\"edge31\" class=\"edge\">\n<title>30&#45;&gt;31</title>\n<path fill=\"none\" stroke=\"#000000\" d=\"M1740,-296.9465C1740,-288.776 1740,-279.9318 1740,-271.3697\"/>\n<polygon fill=\"#000000\" stroke=\"#000000\" points=\"1743.5001,-271.13 1740,-261.13 1736.5001,-271.13 1743.5001,-271.13\"/>\n</g>\n<!-- 36 -->\n<g id=\"node37\" class=\"node\">\n<title>36</title>\n<polygon fill=\"#399de5\" stroke=\"#000000\" points=\"1968.5,-253.5 1839.5,-253.5 1839.5,-200.5 1968.5,-200.5 1968.5,-253.5\"/>\n<text text-anchor=\"middle\" x=\"1904\" y=\"-238.3\" font-family=\"Helvetica,sans-Serif\" font-size=\"14.00\" fill=\"#000000\">samples = 113</text>\n<text text-anchor=\"middle\" x=\"1904\" y=\"-223.3\" font-family=\"Helvetica,sans-Serif\" font-size=\"14.00\" fill=\"#000000\">value = [0, 113]</text>\n<text text-anchor=\"middle\" x=\"1904\" y=\"-208.3\" font-family=\"Helvetica,sans-Serif\" font-size=\"14.00\" fill=\"#000000\">class = malignant</text>\n</g>\n<!-- 30&#45;&gt;36 -->\n<g id=\"edge36\" class=\"edge\">\n<title>30&#45;&gt;36</title>\n<path fill=\"none\" stroke=\"#000000\" d=\"M1793.6997,-296.9465C1812.9801,-284.72 1834.6396,-270.9847 1853.6272,-258.9437\"/>\n<polygon fill=\"#000000\" stroke=\"#000000\" points=\"1855.5744,-261.8534 1862.145,-253.5422 1851.8255,-255.9418 1855.5744,-261.8534\"/>\n</g>\n<!-- 32 -->\n<g id=\"node33\" class=\"node\">\n<title>32</title>\n<polygon fill=\"#399de5\" stroke=\"#000000\" points=\"1804.5,-149.5 1675.5,-149.5 1675.5,-96.5 1804.5,-96.5 1804.5,-149.5\"/>\n<text text-anchor=\"middle\" x=\"1740\" y=\"-134.3\" font-family=\"Helvetica,sans-Serif\" font-size=\"14.00\" fill=\"#000000\">samples = 19</text>\n<text text-anchor=\"middle\" x=\"1740\" y=\"-119.3\" font-family=\"Helvetica,sans-Serif\" font-size=\"14.00\" fill=\"#000000\">value = [0, 19]</text>\n<text text-anchor=\"middle\" x=\"1740\" y=\"-104.3\" font-family=\"Helvetica,sans-Serif\" font-size=\"14.00\" fill=\"#000000\">class = malignant</text>\n</g>\n<!-- 31&#45;&gt;32 -->\n<g id=\"edge32\" class=\"edge\">\n<title>31&#45;&gt;32</title>\n<path fill=\"none\" stroke=\"#000000\" d=\"M1740,-192.9465C1740,-182.2621 1740,-170.4254 1740,-159.5742\"/>\n<polygon fill=\"#000000\" stroke=\"#000000\" points=\"1743.5001,-159.5421 1740,-149.5422 1736.5001,-159.5422 1743.5001,-159.5421\"/>\n</g>\n<!-- 33 -->\n<g id=\"node34\" class=\"node\">\n<title>33</title>\n<polygon fill=\"#7bbeee\" stroke=\"#000000\" points=\"2025,-157 1823,-157 1823,-89 2025,-89 2025,-157\"/>\n<text text-anchor=\"middle\" x=\"1924\" y=\"-141.8\" font-family=\"Helvetica,sans-Serif\" font-size=\"14.00\" fill=\"#000000\">Uniformity of Cell Size &lt;= 8.5</text>\n<text text-anchor=\"middle\" x=\"1924\" y=\"-126.8\" font-family=\"Helvetica,sans-Serif\" font-size=\"14.00\" fill=\"#000000\">samples = 4</text>\n<text text-anchor=\"middle\" x=\"1924\" y=\"-111.8\" font-family=\"Helvetica,sans-Serif\" font-size=\"14.00\" fill=\"#000000\">value = [1, 3]</text>\n<text text-anchor=\"middle\" x=\"1924\" y=\"-96.8\" font-family=\"Helvetica,sans-Serif\" font-size=\"14.00\" fill=\"#000000\">class = malignant</text>\n</g>\n<!-- 31&#45;&gt;33 -->\n<g id=\"edge33\" class=\"edge\">\n<title>31&#45;&gt;33</title>\n<path fill=\"none\" stroke=\"#000000\" d=\"M1800.2485,-192.9465C1817.7221,-183.0701 1836.9375,-172.2093 1854.9076,-162.0522\"/>\n<polygon fill=\"#000000\" stroke=\"#000000\" points=\"1856.6327,-165.0976 1863.6162,-157.13 1853.1883,-159.0036 1856.6327,-165.0976\"/>\n</g>\n<!-- 34 -->\n<g id=\"node35\" class=\"node\">\n<title>34</title>\n<polygon fill=\"#399de5\" stroke=\"#000000\" points=\"1919.5,-53 1790.5,-53 1790.5,0 1919.5,0 1919.5,-53\"/>\n<text text-anchor=\"middle\" x=\"1855\" y=\"-37.8\" font-family=\"Helvetica,sans-Serif\" font-size=\"14.00\" fill=\"#000000\">samples = 3</text>\n<text text-anchor=\"middle\" x=\"1855\" y=\"-22.8\" font-family=\"Helvetica,sans-Serif\" font-size=\"14.00\" fill=\"#000000\">value = [0, 3]</text>\n<text text-anchor=\"middle\" x=\"1855\" y=\"-7.8\" font-family=\"Helvetica,sans-Serif\" font-size=\"14.00\" fill=\"#000000\">class = malignant</text>\n</g>\n<!-- 33&#45;&gt;34 -->\n<g id=\"edge34\" class=\"edge\">\n<title>33&#45;&gt;34</title>\n<path fill=\"none\" stroke=\"#000000\" d=\"M1899.6732,-88.9777C1893.3221,-80.0954 1886.466,-70.5067 1880.0768,-61.5711\"/>\n<polygon fill=\"#000000\" stroke=\"#000000\" points=\"1882.7893,-59.3472 1874.1259,-53.2485 1877.0952,-63.4187 1882.7893,-59.3472\"/>\n</g>\n<!-- 35 -->\n<g id=\"node36\" class=\"node\">\n<title>35</title>\n<polygon fill=\"#e58139\" stroke=\"#000000\" points=\"2048,-53 1938,-53 1938,0 2048,0 2048,-53\"/>\n<text text-anchor=\"middle\" x=\"1993\" y=\"-37.8\" font-family=\"Helvetica,sans-Serif\" font-size=\"14.00\" fill=\"#000000\">samples = 1</text>\n<text text-anchor=\"middle\" x=\"1993\" y=\"-22.8\" font-family=\"Helvetica,sans-Serif\" font-size=\"14.00\" fill=\"#000000\">value = [1, 0]</text>\n<text text-anchor=\"middle\" x=\"1993\" y=\"-7.8\" font-family=\"Helvetica,sans-Serif\" font-size=\"14.00\" fill=\"#000000\">class = benign</text>\n</g>\n<!-- 33&#45;&gt;35 -->\n<g id=\"edge35\" class=\"edge\">\n<title>33&#45;&gt;35</title>\n<path fill=\"none\" stroke=\"#000000\" d=\"M1948.3268,-88.9777C1954.6779,-80.0954 1961.534,-70.5067 1967.9232,-61.5711\"/>\n<polygon fill=\"#000000\" stroke=\"#000000\" points=\"1970.9048,-63.4187 1973.8741,-53.2485 1965.2107,-59.3472 1970.9048,-63.4187\"/>\n</g>\n</g>\n</svg>\n"
          },
          "metadata": {}
        }
      ]
    },
    {
      "cell_type": "code",
      "source": [
        "import numpy as np\n",
        "import matplotlib.pyplot as plt\n",
        "def plot_feature_importances_cancer(model):\n",
        "    n_features = BCW_cleaned.shape[1] - 1\n",
        "    plt.figure(figsize=(15, 10))\n",
        "    plt.barh(range(n_features), model.feature_importances_, align='center')\n",
        "    plt.yticks(np.arange(n_features), BCW_cleaned.columns.delete(9))\n",
        "    plt.xlabel(\"Feature importance\")\n",
        "    plt.ylabel(\"Feature\")\n",
        "    plt.ylim(-1, n_features)\n",
        "    \n",
        "plot_feature_importances_cancer(tree)"
      ],
      "metadata": {
        "colab": {
          "base_uri": "https://localhost:8080/",
          "height": 606
        },
        "id": "GxN5uZqvmTMr",
        "outputId": "04a6a354-28b4-4c6d-d845-d3941578c5a1"
      },
      "execution_count": 36,
      "outputs": [
        {
          "output_type": "display_data",
          "data": {
            "image/png": "[encoded data removed]",
            "text/plain": [
              "<Figure size 1080x720 with 1 Axes>"
            ]
          },
          "metadata": {
            "needs_background": "light"
          }
        }
      ]
    },
    {
      "cell_type": "markdown",
      "metadata": {
        "id": "okzhRrW1uY6j"
      },
      "source": [
        "***\n",
        "\n",
        "## Submit Your Work"
      ]
    },
    {
      "cell_type": "markdown",
      "metadata": {
        "id": "8kv-0zLAuY6k"
      },
      "source": [
        "You're almost done -- congratulations!\n",
        "\n",
        "You need to do a few more things:\n",
        "\n",
        "1. Save your work.  To do this, create a **notebook checkpoint** by using the menu within the notebook to go **File -> Save and Checkpoint**\n",
        "\n",
        "2. Click **File** -> **Close and Halt** to close this notebook.\n",
        "\n",
        "3. Click **Logout** on Jupyter to return your terminal back to the command prompt.\n",
        "\n",
        "4. Follow the assignment instructions to submit this assignment."
      ]
    }
  ],
  "metadata": {
    "kernelspec": {
      "display_name": "Python 3 (ipykernel)",
      "language": "python",
      "name": "python3"
    },
    "language_info": {
      "codemirror_mode": {
        "name": "ipython",
        "version": 3
      },
      "file_extension": ".py",
      "mimetype": "text/x-python",
      "name": "python",
      "nbconvert_exporter": "python",
      "pygments_lexer": "ipython3",
      "version": "3.8.10"
    },
    "toc": {
      "base_numbering": 1,
      "nav_menu": {},
      "number_sections": false,
      "sideBar": true,
      "skip_h1_title": false,
      "title_cell": "Table of Contents",
      "title_sidebar": "Contents",
      "toc_cell": false,
      "toc_position": {},
      "toc_section_display": true,
      "toc_window_display": false
    },
    "colab": {
      "name": "hw10.ipynb",
      "provenance": [],
      "collapsed_sections": []
    }
  },
  "nbformat": 4,
  "nbformat_minor": 0
}